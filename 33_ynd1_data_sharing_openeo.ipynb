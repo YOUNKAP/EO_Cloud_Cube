{
 "cells": [
  {
   "cell_type": "markdown",
   "id": "3d8f1015-699c-4c22-b3be-61608b6d993a",
   "metadata": {},
   "source": [
    "<center><img src=\"https://raw.githubusercontent.com/EO-College/cubes-and-clouds/main/icons/cnc_3icons_process_circle.svg\"\n",
    "     alt=\"Cubes & Clouds logo\"\n",
    "     style=\"float: center; margin-right: 10px; margin-left: 10px; max-height: 250px;\" /></center>"
   ]
  },
  {
   "cell_type": "markdown",
   "id": "0c6aed2f-1493-4636-a124-03c81b28bc52",
   "metadata": {},
   "source": [
    "# 3.3 Data Sharing with openEO\n",
    "\n",
    "<img src=\"https://openeo.org/images/openeo_logo.png\"\n",
    "     alt=\"openEO logo\"\n",
    "     style=\"float: center; margin-right: 10px; max-height: 100px;\"/>\n",
    "\n",
    "Science is much more impactful once it's shared. Therefore, we are going to learn how to \n",
    "open up our scientific output from a cloud platform, so that is openly available - and \n",
    "has the chance to make the impact it should.\n",
    "- Reuse the workflow we have used before for creating the snow covered area\n",
    "- Select AOI,\n",
    "- Recreate process graph, \n",
    "- Download results for one time-step\n",
    "  - A Snow Cover Area map in the COG format\n",
    "  - A STAC metadata item that is provided with the result from openEO at CDSE\n",
    "- Adapt the STAC item\n",
    "- Upload the results and make them available openly via a STAC browser and web map\n"
   ]
  },
  {
   "cell_type": "markdown",
   "id": "7d102aad-5b61-422c-acb1-9c89621d70e3",
   "metadata": {
    "tags": []
   },
   "source": [
    "## Libraries"
   ]
  },
  {
   "cell_type": "markdown",
   "id": "bfd758d4-a3d3-44ae-9cd0-7689af34effe",
   "metadata": {},
   "source": [
    "Start by creating the folders and data files needed to complete the exercise"
   ]
  },
  {
   "cell_type": "code",
   "execution_count": 1,
   "id": "54507438-b159-49cb-85e0-b98d3ddb690a",
   "metadata": {
    "tags": []
   },
   "outputs": [],
   "source": [
    "!cp -r ${DATA_PATH%/*/*}/notebooks/cubes-and-clouds/lectures/3.3_data_sharing/exercises/_33_cubes_utilities.py $HOME/\n",
    "!mkdir -p $HOME/33_results"
   ]
  },
  {
   "cell_type": "code",
   "execution_count": 2,
   "id": "1abf270c-d73e-4109-854c-3cf36a1b36d7",
   "metadata": {
    "tags": []
   },
   "outputs": [],
   "source": [
    "import json\n",
    "import os\n",
    "import subprocess\n",
    "from datetime import datetime\n",
    "\n",
    "import openeo\n",
    "import numpy as np\n",
    "import leafmap\n",
    "import geopandas as gpd\n",
    "import shapely\n",
    "from shapely.geometry import Polygon\n",
    "\n",
    "import matplotlib.pyplot as plt\n",
    "from matplotlib.ticker import PercentFormatter\n",
    "\n",
    "import rioxarray as rio\n",
    "import xarray\n",
    "from osgeo import gdal\n",
    "\n",
    "from _33_cubes_utilities import (\n",
    "    calculate_sca,\n",
    "    visualize_bbox,\n",
    "    create_bounding_box,\n",
    "    extract_metadata_geometry, \n",
    "    extract_metadata_time\n",
    ")"
   ]
  },
  {
   "cell_type": "markdown",
   "id": "cf32192c-da37-4ae0-8b5c-5391b4616244",
   "metadata": {},
   "source": [
    "## Login"
   ]
  },
  {
   "cell_type": "markdown",
   "id": "8ad2ba48-40ef-4cc5-9bb6-de59d4b9a67e",
   "metadata": {
    "tags": []
   },
   "source": [
    "Connect to the copernicus dataspace ecosystem."
   ]
  },
  {
   "cell_type": "code",
   "execution_count": 3,
   "id": "35624db3-17ef-4efb-a203-8d79113e2203",
   "metadata": {
    "tags": []
   },
   "outputs": [],
   "source": [
    "conn = openeo.connect('https://openeo.dataspace.copernicus.eu/')"
   ]
  },
  {
   "cell_type": "markdown",
   "id": "0046a654-ba6f-4dae-84f2-7f11e099592f",
   "metadata": {},
   "source": [
    "Authenticate login"
   ]
  },
  {
   "cell_type": "code",
   "execution_count": 4,
   "id": "de26fd5c-71da-4d28-b895-f5108a97a1d5",
   "metadata": {
    "tags": []
   },
   "outputs": [
    {
     "name": "stdout",
     "output_type": "stream",
     "text": [
      "Authenticated using refresh token.\n"
     ]
    },
    {
     "data": {
      "text/plain": [
       "<Connection to 'https://openeo.dataspace.copernicus.eu/openeo/1.2/' with OidcBearerAuth>"
      ]
     },
     "execution_count": 4,
     "metadata": {},
     "output_type": "execute_result"
    }
   ],
   "source": [
    "conn.authenticate_oidc()"
   ]
  },
  {
   "cell_type": "markdown",
   "id": "a1a2af45-ba11-41b8-9aaa-2b8169103f7b",
   "metadata": {},
   "source": [
    "Check if the login worked"
   ]
  },
  {
   "cell_type": "code",
   "execution_count": 5,
   "id": "bf1eb435-8e42-425f-9470-75081325787a",
   "metadata": {
    "tags": []
   },
   "outputs": [
    {
     "data": {
      "text/plain": [
       "{'info': {'oidc_userinfo': {'email': 'younkapingsead@gmail.com',\n",
       "   'email_verified': True,\n",
       "   'family_name': 'Duplex',\n",
       "   'given_name': 'YOUNKAP NINA',\n",
       "   'name': 'YOUNKAP NINA Duplex',\n",
       "   'preferred_username': 'younkapingsead@gmail.com',\n",
       "   'sub': '86b84b23-5c8b-4db0-ab03-d05137881fac'}},\n",
       " 'name': 'YOUNKAP NINA Duplex',\n",
       " 'user_id': '86b84b23-5c8b-4db0-ab03-d05137881fac'}"
      ]
     },
     "execution_count": 5,
     "metadata": {},
     "output_type": "execute_result"
    }
   ],
   "source": [
    "conn.describe_account()"
   ]
  },
  {
   "cell_type": "markdown",
   "id": "b2d634d7-e719-4cab-8066-ed0cc1c278f6",
   "metadata": {
    "tags": []
   },
   "source": [
    "## Select an Area of Interest and Time Frame\n",
    "\n",
    "Start by selecting a center point of the area you would like to analyse from the map shown below. The starting extent is the full alps. Zoom in to an area and choose a region that has not been mapped yet. *Make sure not to overlap too much with already mapped areas by having a look at the [STAC Collection](https://esa.pages.eox.at/cubes-and-clouds-catalog/browser/#/?.language=en)*. It's a community mapping project :)\n",
    "Create a 1 km bounding box around it. This will be the area you are calculating the snow covered area for. \n"
   ]
  },
  {
   "cell_type": "markdown",
   "id": "3cfc19ce-a624-4ecf-8890-4f615e25ad63",
   "metadata": {},
   "source": [
    "**Attention:**\n",
    " Execute the cell below to show the map. Zoom to a location you want to analyze. Use the location symbol to select a point. A marker appears on the map. This is the center of your area of interest"
   ]
  },
  {
   "cell_type": "code",
   "execution_count": 6,
   "id": "c2999d0e-210e-4188-8c03-31719c06a70d",
   "metadata": {
    "tags": []
   },
   "outputs": [],
   "source": [
    "m = leafmap.Map(center=(47.005, 11.507), zoom=7.5)"
   ]
  },
  {
   "cell_type": "code",
   "execution_count": 7,
   "id": "ac4b4c73-9d78-4501-9964-5039f90b4388",
   "metadata": {},
   "outputs": [
    {
     "data": {
      "application/vnd.jupyter.widget-view+json": {
       "model_id": "4939d0e16c8342b4b254d89b91379600",
       "version_major": 2,
       "version_minor": 0
      },
      "text/plain": [
       "Map(center=[47.005, 11.507], controls=(AttributionControl(options=['position', 'prefix'], position='bottomrigh…"
      ]
     },
     "execution_count": 7,
     "metadata": {},
     "output_type": "execute_result"
    }
   ],
   "source": [
    "m"
   ]
  },
  {
   "cell_type": "markdown",
   "id": "35370594-f936-4789-8cc4-838b4913320a",
   "metadata": {},
   "source": [
    "**Attention:**\n",
    " Now this cell will get the coordinates of the marker you have placed. This will create a 1 km bounding box around the chosen location. And visualize it in the map above. *The marker moves to the center when you zoom in*"
   ]
  },
  {
   "cell_type": "code",
   "execution_count": 9,
   "id": "42c6cb21-afff-4b5c-a7d0-403e81192995",
   "metadata": {
    "tags": []
   },
   "outputs": [],
   "source": [
    "feat = m.draw_features\n",
    "geom = feat[0]['geometry']['coordinates']\n",
    "\n",
    "# set distance of 1 km around bbox\n",
    "distance_km = 1\n",
    "\n",
    "# Create a bounding box around the point\n",
    "bbox = create_bounding_box(geom[0], geom[1], distance_km)\n",
    "visualize_bbox(m, bbox)"
   ]
  },
  {
   "cell_type": "markdown",
   "id": "b8fc1d08-5464-4a04-a98a-b4f6d8c2bf82",
   "metadata": {},
   "source": [
    "Now we'll select the time frame. We'll start with the winter months of 2024."
   ]
  },
  {
   "cell_type": "code",
   "execution_count": 10,
   "id": "553852f1-24dd-41be-96b7-6cabafc161a9",
   "metadata": {
    "tags": []
   },
   "outputs": [],
   "source": [
    "temporal_extent = [\"2024-12-20\", \"2025-03-20\"]"
   ]
  },
  {
   "cell_type": "markdown",
   "id": "26325c28-6329-491f-9cdf-15c573a6d0f5",
   "metadata": {},
   "source": [
    "## Reuse the process graph of the snow covered area data cube\n",
    "We've saved the python code that we had used to create the snow cover area data cube into a python function `calculate_sca()`. It's stored in `cubes_utilities.py`. It creates a 4 dimensional data cube with the dimensions: x, y, time, bands.\n",
    "As parameters we have exposed the bounding box and temporal extent. We will update them with the choices we have made above. "
   ]
  },
  {
   "cell_type": "code",
   "execution_count": 11,
   "id": "af2c5198-c846-4478-97cd-28f051336af9",
   "metadata": {
    "tags": []
   },
   "outputs": [
    {
     "data": {
      "text/html": [
       "\n",
       "    <script>\n",
       "    if (!window.customElements || !window.customElements.get('openeo-model-builder')) {\n",
       "        var el = document.createElement('script');\n",
       "        el.src = \"https://cdn.jsdelivr.net/npm/@openeo/vue-components@2/assets/openeo.min.js\";\n",
       "        document.head.appendChild(el);\n",
       "\n",
       "        var font = document.createElement('font');\n",
       "        font.as = \"font\";\n",
       "        font.type = \"font/woff2\";\n",
       "        font.crossOrigin = true;\n",
       "        font.href = \"https://use.fontawesome.com/releases/v5.13.0/webfonts/fa-solid-900.woff2\"\n",
       "        document.head.appendChild(font);\n",
       "    }\n",
       "    </script>\n",
       "    <openeo-model-builder>\n",
       "        <script type=\"application/json\">{\"id\": \"92d0501fe7f04b8e82408e9957531fc7\", \"explicit-zoom\": true, \"height\": \"400px\", \"value\": {\"process_graph\": {\"loadcollection1\": {\"process_id\": \"load_collection\", \"arguments\": {\"bands\": [\"B03\", \"B11\", \"SCL\"], \"id\": \"SENTINEL2_L2A\", \"spatial_extent\": {\"west\": 10.866784783940814, \"east\": 10.884771216059187, \"south\": 47.18518829848707, \"north\": 47.203503701512936, \"crs\": 4326}, \"temporal_extent\": [\"2024-12-20\", \"2025-03-20\"]}}, \"reducedimension1\": {\"process_id\": \"reduce_dimension\", \"arguments\": {\"data\": {\"from_node\": \"loadcollection1\"}, \"dimension\": \"bands\", \"reducer\": {\"process_graph\": {\"arrayelement1\": {\"process_id\": \"array_element\", \"arguments\": {\"data\": {\"from_parameter\": \"data\"}, \"index\": 0}}, \"arrayelement2\": {\"process_id\": \"array_element\", \"arguments\": {\"data\": {\"from_parameter\": \"data\"}, \"index\": 1}}, \"subtract1\": {\"process_id\": \"subtract\", \"arguments\": {\"x\": {\"from_node\": \"arrayelement1\"}, \"y\": {\"from_node\": \"arrayelement2\"}}}, \"add1\": {\"process_id\": \"add\", \"arguments\": {\"x\": {\"from_node\": \"arrayelement1\"}, \"y\": {\"from_node\": \"arrayelement2\"}}}, \"divide1\": {\"process_id\": \"divide\", \"arguments\": {\"x\": {\"from_node\": \"subtract1\"}, \"y\": {\"from_node\": \"add1\"}}}, \"gt1\": {\"process_id\": \"gt\", \"arguments\": {\"x\": {\"from_node\": \"divide1\"}, \"y\": 0.4}}, \"multiply1\": {\"process_id\": \"multiply\", \"arguments\": {\"x\": {\"from_node\": \"gt1\"}, \"y\": 1.0}, \"result\": true}}}}}, \"reducedimension2\": {\"process_id\": \"reduce_dimension\", \"arguments\": {\"data\": {\"from_node\": \"loadcollection1\"}, \"dimension\": \"bands\", \"reducer\": {\"process_graph\": {\"arrayelement3\": {\"process_id\": \"array_element\", \"arguments\": {\"data\": {\"from_parameter\": \"data\"}, \"index\": 2}}, \"eq1\": {\"process_id\": \"eq\", \"arguments\": {\"x\": {\"from_node\": \"arrayelement3\"}, \"y\": 8}}, \"eq2\": {\"process_id\": \"eq\", \"arguments\": {\"x\": {\"from_node\": \"arrayelement3\"}, \"y\": 9}}, \"or1\": {\"process_id\": \"or\", \"arguments\": {\"x\": {\"from_node\": \"eq1\"}, \"y\": {\"from_node\": \"eq2\"}}}, \"eq3\": {\"process_id\": \"eq\", \"arguments\": {\"x\": {\"from_node\": \"arrayelement3\"}, \"y\": 3}}, \"or2\": {\"process_id\": \"or\", \"arguments\": {\"x\": {\"from_node\": \"or1\"}, \"y\": {\"from_node\": \"eq3\"}}}, \"multiply2\": {\"process_id\": \"multiply\", \"arguments\": {\"x\": {\"from_node\": \"or2\"}, \"y\": 1.0}, \"result\": true}}}}}, \"mask1\": {\"process_id\": \"mask\", \"arguments\": {\"data\": {\"from_node\": \"reducedimension1\"}, \"mask\": {\"from_node\": \"reducedimension2\"}, \"replacement\": 2}, \"result\": true}}}}</script>\n",
       "    </openeo-model-builder>\n",
       "    "
      ],
      "text/plain": [
       "<openeo.rest.datacube.DataCube at 0x7f29d6d9d6c0>"
      ]
     },
     "execution_count": 11,
     "metadata": {},
     "output_type": "execute_result"
    }
   ],
   "source": [
    "snow_map_4dcube = calculate_sca(conn, bbox, temporal_extent)\n",
    "snow_map_4dcube"
   ]
  },
  {
   "cell_type": "markdown",
   "id": "7973af9d-15e0-4fae-bdfa-c35faf7f652a",
   "metadata": {},
   "source": [
    "## Reduce the time dimension\n",
    "We want to calculate the SCA for the winter period of a given year. Therefore, we need to reduce the values along the time dimension. We'll use the process `reduce_dimension()` with a `median()` to accomplish this. We are directly continuing to build on our process graph that we have loaded above."
   ]
  },
  {
   "cell_type": "code",
   "execution_count": 12,
   "id": "1d8e9005-f0b7-49af-b83a-9a2983a2965b",
   "metadata": {
    "tags": []
   },
   "outputs": [
    {
     "data": {
      "text/html": [
       "\n",
       "    <script>\n",
       "    if (!window.customElements || !window.customElements.get('openeo-model-builder')) {\n",
       "        var el = document.createElement('script');\n",
       "        el.src = \"https://cdn.jsdelivr.net/npm/@openeo/vue-components@2/assets/openeo.min.js\";\n",
       "        document.head.appendChild(el);\n",
       "\n",
       "        var font = document.createElement('font');\n",
       "        font.as = \"font\";\n",
       "        font.type = \"font/woff2\";\n",
       "        font.crossOrigin = true;\n",
       "        font.href = \"https://use.fontawesome.com/releases/v5.13.0/webfonts/fa-solid-900.woff2\"\n",
       "        document.head.appendChild(font);\n",
       "    }\n",
       "    </script>\n",
       "    <openeo-model-builder>\n",
       "        <script type=\"application/json\">{\"id\": \"63964edb30164753a30b2b42d5accff5\", \"explicit-zoom\": true, \"height\": \"400px\", \"value\": {\"process_graph\": {\"loadcollection1\": {\"process_id\": \"load_collection\", \"arguments\": {\"bands\": [\"B03\", \"B11\", \"SCL\"], \"id\": \"SENTINEL2_L2A\", \"spatial_extent\": {\"west\": 10.866784783940814, \"east\": 10.884771216059187, \"south\": 47.18518829848707, \"north\": 47.203503701512936, \"crs\": 4326}, \"temporal_extent\": [\"2024-12-20\", \"2025-03-20\"]}}, \"reducedimension1\": {\"process_id\": \"reduce_dimension\", \"arguments\": {\"data\": {\"from_node\": \"loadcollection1\"}, \"dimension\": \"bands\", \"reducer\": {\"process_graph\": {\"arrayelement1\": {\"process_id\": \"array_element\", \"arguments\": {\"data\": {\"from_parameter\": \"data\"}, \"index\": 0}}, \"arrayelement2\": {\"process_id\": \"array_element\", \"arguments\": {\"data\": {\"from_parameter\": \"data\"}, \"index\": 1}}, \"subtract1\": {\"process_id\": \"subtract\", \"arguments\": {\"x\": {\"from_node\": \"arrayelement1\"}, \"y\": {\"from_node\": \"arrayelement2\"}}}, \"add1\": {\"process_id\": \"add\", \"arguments\": {\"x\": {\"from_node\": \"arrayelement1\"}, \"y\": {\"from_node\": \"arrayelement2\"}}}, \"divide1\": {\"process_id\": \"divide\", \"arguments\": {\"x\": {\"from_node\": \"subtract1\"}, \"y\": {\"from_node\": \"add1\"}}}, \"gt1\": {\"process_id\": \"gt\", \"arguments\": {\"x\": {\"from_node\": \"divide1\"}, \"y\": 0.4}}, \"multiply1\": {\"process_id\": \"multiply\", \"arguments\": {\"x\": {\"from_node\": \"gt1\"}, \"y\": 1.0}, \"result\": true}}}}}, \"reducedimension2\": {\"process_id\": \"reduce_dimension\", \"arguments\": {\"data\": {\"from_node\": \"loadcollection1\"}, \"dimension\": \"bands\", \"reducer\": {\"process_graph\": {\"arrayelement3\": {\"process_id\": \"array_element\", \"arguments\": {\"data\": {\"from_parameter\": \"data\"}, \"index\": 2}}, \"eq1\": {\"process_id\": \"eq\", \"arguments\": {\"x\": {\"from_node\": \"arrayelement3\"}, \"y\": 8}}, \"eq2\": {\"process_id\": \"eq\", \"arguments\": {\"x\": {\"from_node\": \"arrayelement3\"}, \"y\": 9}}, \"or1\": {\"process_id\": \"or\", \"arguments\": {\"x\": {\"from_node\": \"eq1\"}, \"y\": {\"from_node\": \"eq2\"}}}, \"eq3\": {\"process_id\": \"eq\", \"arguments\": {\"x\": {\"from_node\": \"arrayelement3\"}, \"y\": 3}}, \"or2\": {\"process_id\": \"or\", \"arguments\": {\"x\": {\"from_node\": \"or1\"}, \"y\": {\"from_node\": \"eq3\"}}}, \"multiply2\": {\"process_id\": \"multiply\", \"arguments\": {\"x\": {\"from_node\": \"or2\"}, \"y\": 1.0}, \"result\": true}}}}}, \"mask1\": {\"process_id\": \"mask\", \"arguments\": {\"data\": {\"from_node\": \"reducedimension1\"}, \"mask\": {\"from_node\": \"reducedimension2\"}, \"replacement\": 2}}, \"reducedimension3\": {\"process_id\": \"reduce_dimension\", \"arguments\": {\"data\": {\"from_node\": \"mask1\"}, \"dimension\": \"t\", \"reducer\": {\"process_graph\": {\"median1\": {\"process_id\": \"median\", \"arguments\": {\"data\": {\"from_parameter\": \"data\"}}, \"result\": true}}}}, \"result\": true}}}}</script>\n",
       "    </openeo-model-builder>\n",
       "    "
      ],
      "text/plain": [
       "<openeo.rest.datacube.DataCube at 0x7f29d7167e20>"
      ]
     },
     "execution_count": 12,
     "metadata": {},
     "output_type": "execute_result"
    }
   ],
   "source": [
    "snow_map_3dcube = snow_map_4dcube.reduce_dimension(reducer=\"median\", dimension=\"t\")\n",
    "snow_map_3dcube"
   ]
  },
  {
   "cell_type": "markdown",
   "id": "251ba878-3841-479a-868e-886d701f50ef",
   "metadata": {
    "tags": []
   },
   "source": [
    "## Download result\n",
    "To finish our process graph we add the `save_result()` process choosing the `GTiff` format. It creates a COG out of the box with openEO on CDSE."
   ]
  },
  {
   "cell_type": "code",
   "execution_count": 13,
   "id": "d654adb3-fcc0-413c-bd5c-28de5564e570",
   "metadata": {
    "tags": []
   },
   "outputs": [],
   "source": [
    "# create a batch job\n",
    "snowmap_cog = snow_map_3dcube.save_result(format = \"GTiff\") #, options = {\"overviews\": \"AUTO\"})"
   ]
  },
  {
   "cell_type": "markdown",
   "id": "ceb0edb7-c349-467d-9a42-bfbe5538a299",
   "metadata": {},
   "source": [
    "We register the job as a batch job on the backend and start the processing. Depending on the traffic on the backend, this usually takes between 1 to 5 minutes."
   ]
  },
  {
   "cell_type": "code",
   "execution_count": 14,
   "id": "1fc7c255-2f67-44a1-978b-2bb51b05eab3",
   "metadata": {
    "tags": []
   },
   "outputs": [
    {
     "name": "stdout",
     "output_type": "stream",
     "text": [
      "0:00:00 Job 'j-2506280606464883921bdf7c12ed3b5b': send 'start'\n",
      "0:00:17 Job 'j-2506280606464883921bdf7c12ed3b5b': created (progress 0%)\n",
      "0:00:22 Job 'j-2506280606464883921bdf7c12ed3b5b': running (progress N/A)\n",
      "0:00:29 Job 'j-2506280606464883921bdf7c12ed3b5b': running (progress N/A)\n",
      "0:00:37 Job 'j-2506280606464883921bdf7c12ed3b5b': running (progress N/A)\n",
      "0:00:47 Job 'j-2506280606464883921bdf7c12ed3b5b': running (progress N/A)\n",
      "0:00:59 Job 'j-2506280606464883921bdf7c12ed3b5b': running (progress N/A)\n",
      "0:01:14 Job 'j-2506280606464883921bdf7c12ed3b5b': running (progress N/A)\n",
      "0:01:34 Job 'j-2506280606464883921bdf7c12ed3b5b': running (progress N/A)\n",
      "0:01:58 Job 'j-2506280606464883921bdf7c12ed3b5b': running (progress N/A)\n",
      "0:02:28 Job 'j-2506280606464883921bdf7c12ed3b5b': finished (progress 100%)\n"
     ]
    },
    {
     "data": {
      "text/html": [
       "\n",
       "    <script>\n",
       "    if (!window.customElements || !window.customElements.get('openeo-job')) {\n",
       "        var el = document.createElement('script');\n",
       "        el.src = \"https://cdn.jsdelivr.net/npm/@openeo/vue-components@2/assets/openeo.min.js\";\n",
       "        document.head.appendChild(el);\n",
       "\n",
       "        var font = document.createElement('font');\n",
       "        font.as = \"font\";\n",
       "        font.type = \"font/woff2\";\n",
       "        font.crossOrigin = true;\n",
       "        font.href = \"https://use.fontawesome.com/releases/v5.13.0/webfonts/fa-solid-900.woff2\"\n",
       "        document.head.appendChild(font);\n",
       "    }\n",
       "    </script>\n",
       "    <openeo-job>\n",
       "        <script type=\"application/json\">{\"currency\": \"credits\", \"job\": {\"costs\": 4, \"created\": \"2025-06-28T06:06:46Z\", \"id\": \"j-2506280606464883921bdf7c12ed3b5b\", \"process\": {\"process_graph\": {\"loadcollection1\": {\"arguments\": {\"bands\": [\"B03\", \"B11\", \"SCL\"], \"id\": \"SENTINEL2_L2A\", \"spatial_extent\": {\"crs\": 4326, \"east\": 10.884771216059187, \"north\": 47.203503701512936, \"south\": 47.18518829848707, \"west\": 10.866784783940814}, \"temporal_extent\": [\"2024-12-20\", \"2025-03-20\"]}, \"process_id\": \"load_collection\"}, \"mask1\": {\"arguments\": {\"data\": {\"from_node\": \"reducedimension1\"}, \"mask\": {\"from_node\": \"reducedimension2\"}, \"replacement\": 2}, \"process_id\": \"mask\"}, \"reducedimension1\": {\"arguments\": {\"data\": {\"from_node\": \"loadcollection1\"}, \"dimension\": \"bands\", \"reducer\": {\"process_graph\": {\"add1\": {\"arguments\": {\"x\": {\"from_node\": \"arrayelement1\"}, \"y\": {\"from_node\": \"arrayelement2\"}}, \"process_id\": \"add\"}, \"arrayelement1\": {\"arguments\": {\"data\": {\"from_parameter\": \"data\"}, \"index\": 0}, \"process_id\": \"array_element\"}, \"arrayelement2\": {\"arguments\": {\"data\": {\"from_parameter\": \"data\"}, \"index\": 1}, \"process_id\": \"array_element\"}, \"divide1\": {\"arguments\": {\"x\": {\"from_node\": \"subtract1\"}, \"y\": {\"from_node\": \"add1\"}}, \"process_id\": \"divide\"}, \"gt1\": {\"arguments\": {\"x\": {\"from_node\": \"divide1\"}, \"y\": 0.4}, \"process_id\": \"gt\"}, \"multiply1\": {\"arguments\": {\"x\": {\"from_node\": \"gt1\"}, \"y\": 1}, \"process_id\": \"multiply\", \"result\": true}, \"subtract1\": {\"arguments\": {\"x\": {\"from_node\": \"arrayelement1\"}, \"y\": {\"from_node\": \"arrayelement2\"}}, \"process_id\": \"subtract\"}}}}, \"process_id\": \"reduce_dimension\"}, \"reducedimension2\": {\"arguments\": {\"data\": {\"from_node\": \"loadcollection1\"}, \"dimension\": \"bands\", \"reducer\": {\"process_graph\": {\"arrayelement3\": {\"arguments\": {\"data\": {\"from_parameter\": \"data\"}, \"index\": 2}, \"process_id\": \"array_element\"}, \"eq1\": {\"arguments\": {\"x\": {\"from_node\": \"arrayelement3\"}, \"y\": 8}, \"process_id\": \"eq\"}, \"eq2\": {\"arguments\": {\"x\": {\"from_node\": \"arrayelement3\"}, \"y\": 9}, \"process_id\": \"eq\"}, \"eq3\": {\"arguments\": {\"x\": {\"from_node\": \"arrayelement3\"}, \"y\": 3}, \"process_id\": \"eq\"}, \"multiply2\": {\"arguments\": {\"x\": {\"from_node\": \"or2\"}, \"y\": 1}, \"process_id\": \"multiply\", \"result\": true}, \"or1\": {\"arguments\": {\"x\": {\"from_node\": \"eq1\"}, \"y\": {\"from_node\": \"eq2\"}}, \"process_id\": \"or\"}, \"or2\": {\"arguments\": {\"x\": {\"from_node\": \"or1\"}, \"y\": {\"from_node\": \"eq3\"}}, \"process_id\": \"or\"}}}}, \"process_id\": \"reduce_dimension\"}, \"reducedimension3\": {\"arguments\": {\"data\": {\"from_node\": \"mask1\"}, \"dimension\": \"t\", \"reducer\": {\"process_graph\": {\"median1\": {\"arguments\": {\"data\": {\"from_parameter\": \"data\"}}, \"process_id\": \"median\", \"result\": true}}}}, \"process_id\": \"reduce_dimension\"}, \"saveresult1\": {\"arguments\": {\"data\": {\"from_node\": \"reducedimension3\"}, \"format\": \"GTiff\", \"options\": {}}, \"process_id\": \"save_result\", \"result\": true}}}, \"progress\": 100, \"status\": \"finished\", \"title\": \"snowmap_cog\", \"updated\": \"2025-06-28T06:09:10Z\", \"usage\": {\"cpu\": {\"unit\": \"cpu-seconds\", \"value\": 193.206715283}, \"duration\": {\"unit\": \"seconds\", \"value\": 110}, \"input_pixel\": {\"unit\": \"mega-pixel\", \"value\": 6.9375}, \"max_executor_memory\": {\"unit\": \"gb\", \"value\": 1.5282859802246094}, \"memory\": {\"unit\": \"mb-seconds\", \"value\": 989603.18359375}, \"network_received\": {\"unit\": \"b\", \"value\": 1882191261}}}}</script>\n",
       "    </openeo-job>\n",
       "    "
      ],
      "text/plain": [
       "<BatchJob job_id='j-2506280606464883921bdf7c12ed3b5b'>"
      ]
     },
     "execution_count": 14,
     "metadata": {},
     "output_type": "execute_result"
    }
   ],
   "source": [
    "job = snowmap_cog.create_job(title=\"snowmap_cog\")\n",
    "job.start_and_wait()"
   ]
  },
  {
   "cell_type": "markdown",
   "id": "28aada6d-8687-4370-ba52-e33e23f7d8ec",
   "metadata": {},
   "source": [
    "Now let's wait until the job is finished and then download the results."
   ]
  },
  {
   "cell_type": "code",
   "execution_count": 15,
   "id": "219830d8-edec-48d8-b8b0-317112b32899",
   "metadata": {
    "tags": []
   },
   "outputs": [],
   "source": [
    "if job.status() == \"finished\":\n",
    "    results = job.get_results()\n",
    "    results.download_files(\"33_results/\")"
   ]
  },
  {
   "cell_type": "markdown",
   "id": "1eb74eb4-de0c-467e-97f6-0487c4334d6c",
   "metadata": {},
   "source": [
    "Add statistics to the dataset via gdal, such as a summary of the values within the dataset and also some metadata, i.e. the legend (TIFFTAGS).  And we reduce the datatype to the lowest possible datatype supported by COG uint8, since only have three values to represent (0, 1, 2). If you're interested you can check what happened via `!gdalinfo 33_results/openEO_uint8.tif`"
   ]
  },
  {
   "cell_type": "code",
   "execution_count": 16,
   "id": "45b911a3-62fb-41a2-a34c-96ca436d921b",
   "metadata": {
    "tags": []
   },
   "outputs": [
    {
     "name": "stdout",
     "output_type": "stream",
     "text": [
      "Input file size is 142, 208\n",
      "0...10...20...30...40...50...60...70...80...90...100 - done.\n"
     ]
    }
   ],
   "source": [
    "!gdal_translate -mo {TIFFTAG_IMAGEDESCRIPTION}=SnowCoveredArea_0=nosnow_1=snow_2-nodatavalue=cloud -ot Byte -of COG -a_nodata 2 -stats \"33_results/openEO.tif\" \"33_results/openEO_uint8.tif\""
   ]
  },
  {
   "cell_type": "markdown",
   "id": "ba5d74b4-ee86-48c4-a6a6-ff8a667ccafd",
   "metadata": {
    "tags": []
   },
   "source": [
    "## Load results\n",
    "Now we can open the COG and visualize it. "
   ]
  },
  {
   "cell_type": "code",
   "execution_count": 17,
   "id": "96022b16-5714-4f8b-949f-e9183270b451",
   "metadata": {
    "tags": []
   },
   "outputs": [
    {
     "data": {
      "text/html": [
       "<div><svg style=\"position: absolute; width: 0; height: 0; overflow: hidden\">\n",
       "<defs>\n",
       "<symbol id=\"icon-database\" viewBox=\"0 0 32 32\">\n",
       "<path d=\"M16 0c-8.837 0-16 2.239-16 5v4c0 2.761 7.163 5 16 5s16-2.239 16-5v-4c0-2.761-7.163-5-16-5z\"></path>\n",
       "<path d=\"M16 17c-8.837 0-16-2.239-16-5v6c0 2.761 7.163 5 16 5s16-2.239 16-5v-6c0 2.761-7.163 5-16 5z\"></path>\n",
       "<path d=\"M16 26c-8.837 0-16-2.239-16-5v6c0 2.761 7.163 5 16 5s16-2.239 16-5v-6c0 2.761-7.163 5-16 5z\"></path>\n",
       "</symbol>\n",
       "<symbol id=\"icon-file-text2\" viewBox=\"0 0 32 32\">\n",
       "<path d=\"M28.681 7.159c-0.694-0.947-1.662-2.053-2.724-3.116s-2.169-2.030-3.116-2.724c-1.612-1.182-2.393-1.319-2.841-1.319h-15.5c-1.378 0-2.5 1.121-2.5 2.5v27c0 1.378 1.122 2.5 2.5 2.5h23c1.378 0 2.5-1.122 2.5-2.5v-19.5c0-0.448-0.137-1.23-1.319-2.841zM24.543 5.457c0.959 0.959 1.712 1.825 2.268 2.543h-4.811v-4.811c0.718 0.556 1.584 1.309 2.543 2.268zM28 29.5c0 0.271-0.229 0.5-0.5 0.5h-23c-0.271 0-0.5-0.229-0.5-0.5v-27c0-0.271 0.229-0.5 0.5-0.5 0 0 15.499-0 15.5 0v7c0 0.552 0.448 1 1 1h7v19.5z\"></path>\n",
       "<path d=\"M23 26h-14c-0.552 0-1-0.448-1-1s0.448-1 1-1h14c0.552 0 1 0.448 1 1s-0.448 1-1 1z\"></path>\n",
       "<path d=\"M23 22h-14c-0.552 0-1-0.448-1-1s0.448-1 1-1h14c0.552 0 1 0.448 1 1s-0.448 1-1 1z\"></path>\n",
       "<path d=\"M23 18h-14c-0.552 0-1-0.448-1-1s0.448-1 1-1h14c0.552 0 1 0.448 1 1s-0.448 1-1 1z\"></path>\n",
       "</symbol>\n",
       "</defs>\n",
       "</svg>\n",
       "<style>/* CSS stylesheet for displaying xarray objects in jupyterlab.\n",
       " *\n",
       " */\n",
       "\n",
       ":root {\n",
       "  --xr-font-color0: var(--jp-content-font-color0, rgba(0, 0, 0, 1));\n",
       "  --xr-font-color2: var(--jp-content-font-color2, rgba(0, 0, 0, 0.54));\n",
       "  --xr-font-color3: var(--jp-content-font-color3, rgba(0, 0, 0, 0.38));\n",
       "  --xr-border-color: var(--jp-border-color2, #e0e0e0);\n",
       "  --xr-disabled-color: var(--jp-layout-color3, #bdbdbd);\n",
       "  --xr-background-color: var(--jp-layout-color0, white);\n",
       "  --xr-background-color-row-even: var(--jp-layout-color1, white);\n",
       "  --xr-background-color-row-odd: var(--jp-layout-color2, #eeeeee);\n",
       "}\n",
       "\n",
       "html[theme=\"dark\"],\n",
       "html[data-theme=\"dark\"],\n",
       "body[data-theme=\"dark\"],\n",
       "body.vscode-dark {\n",
       "  --xr-font-color0: rgba(255, 255, 255, 1);\n",
       "  --xr-font-color2: rgba(255, 255, 255, 0.54);\n",
       "  --xr-font-color3: rgba(255, 255, 255, 0.38);\n",
       "  --xr-border-color: #1f1f1f;\n",
       "  --xr-disabled-color: #515151;\n",
       "  --xr-background-color: #111111;\n",
       "  --xr-background-color-row-even: #111111;\n",
       "  --xr-background-color-row-odd: #313131;\n",
       "}\n",
       "\n",
       ".xr-wrap {\n",
       "  display: block !important;\n",
       "  min-width: 300px;\n",
       "  max-width: 700px;\n",
       "}\n",
       "\n",
       ".xr-text-repr-fallback {\n",
       "  /* fallback to plain text repr when CSS is not injected (untrusted notebook) */\n",
       "  display: none;\n",
       "}\n",
       "\n",
       ".xr-header {\n",
       "  padding-top: 6px;\n",
       "  padding-bottom: 6px;\n",
       "  margin-bottom: 4px;\n",
       "  border-bottom: solid 1px var(--xr-border-color);\n",
       "}\n",
       "\n",
       ".xr-header > div,\n",
       ".xr-header > ul {\n",
       "  display: inline;\n",
       "  margin-top: 0;\n",
       "  margin-bottom: 0;\n",
       "}\n",
       "\n",
       ".xr-obj-type,\n",
       ".xr-array-name {\n",
       "  margin-left: 2px;\n",
       "  margin-right: 10px;\n",
       "}\n",
       "\n",
       ".xr-obj-type {\n",
       "  color: var(--xr-font-color2);\n",
       "}\n",
       "\n",
       ".xr-sections {\n",
       "  padding-left: 0 !important;\n",
       "  display: grid;\n",
       "  grid-template-columns: 150px auto auto 1fr 0 20px 0 20px;\n",
       "}\n",
       "\n",
       ".xr-section-item {\n",
       "  display: contents;\n",
       "}\n",
       "\n",
       ".xr-section-item input {\n",
       "  display: inline-block;\n",
       "  opacity: 0;\n",
       "  height: 0;\n",
       "}\n",
       "\n",
       ".xr-section-item input + label {\n",
       "  color: var(--xr-disabled-color);\n",
       "}\n",
       "\n",
       ".xr-section-item input:enabled + label {\n",
       "  cursor: pointer;\n",
       "  color: var(--xr-font-color2);\n",
       "}\n",
       "\n",
       ".xr-section-item input:focus + label {\n",
       "  border: 2px solid var(--xr-font-color0);\n",
       "}\n",
       "\n",
       ".xr-section-item input:enabled + label:hover {\n",
       "  color: var(--xr-font-color0);\n",
       "}\n",
       "\n",
       ".xr-section-summary {\n",
       "  grid-column: 1;\n",
       "  color: var(--xr-font-color2);\n",
       "  font-weight: 500;\n",
       "}\n",
       "\n",
       ".xr-section-summary > span {\n",
       "  display: inline-block;\n",
       "  padding-left: 0.5em;\n",
       "}\n",
       "\n",
       ".xr-section-summary-in:disabled + label {\n",
       "  color: var(--xr-font-color2);\n",
       "}\n",
       "\n",
       ".xr-section-summary-in + label:before {\n",
       "  display: inline-block;\n",
       "  content: \"►\";\n",
       "  font-size: 11px;\n",
       "  width: 15px;\n",
       "  text-align: center;\n",
       "}\n",
       "\n",
       ".xr-section-summary-in:disabled + label:before {\n",
       "  color: var(--xr-disabled-color);\n",
       "}\n",
       "\n",
       ".xr-section-summary-in:checked + label:before {\n",
       "  content: \"▼\";\n",
       "}\n",
       "\n",
       ".xr-section-summary-in:checked + label > span {\n",
       "  display: none;\n",
       "}\n",
       "\n",
       ".xr-section-summary,\n",
       ".xr-section-inline-details {\n",
       "  padding-top: 4px;\n",
       "  padding-bottom: 4px;\n",
       "}\n",
       "\n",
       ".xr-section-inline-details {\n",
       "  grid-column: 2 / -1;\n",
       "}\n",
       "\n",
       ".xr-section-details {\n",
       "  display: none;\n",
       "  grid-column: 1 / -1;\n",
       "  margin-bottom: 5px;\n",
       "}\n",
       "\n",
       ".xr-section-summary-in:checked ~ .xr-section-details {\n",
       "  display: contents;\n",
       "}\n",
       "\n",
       ".xr-array-wrap {\n",
       "  grid-column: 1 / -1;\n",
       "  display: grid;\n",
       "  grid-template-columns: 20px auto;\n",
       "}\n",
       "\n",
       ".xr-array-wrap > label {\n",
       "  grid-column: 1;\n",
       "  vertical-align: top;\n",
       "}\n",
       "\n",
       ".xr-preview {\n",
       "  color: var(--xr-font-color3);\n",
       "}\n",
       "\n",
       ".xr-array-preview,\n",
       ".xr-array-data {\n",
       "  padding: 0 5px !important;\n",
       "  grid-column: 2;\n",
       "}\n",
       "\n",
       ".xr-array-data,\n",
       ".xr-array-in:checked ~ .xr-array-preview {\n",
       "  display: none;\n",
       "}\n",
       "\n",
       ".xr-array-in:checked ~ .xr-array-data,\n",
       ".xr-array-preview {\n",
       "  display: inline-block;\n",
       "}\n",
       "\n",
       ".xr-dim-list {\n",
       "  display: inline-block !important;\n",
       "  list-style: none;\n",
       "  padding: 0 !important;\n",
       "  margin: 0;\n",
       "}\n",
       "\n",
       ".xr-dim-list li {\n",
       "  display: inline-block;\n",
       "  padding: 0;\n",
       "  margin: 0;\n",
       "}\n",
       "\n",
       ".xr-dim-list:before {\n",
       "  content: \"(\";\n",
       "}\n",
       "\n",
       ".xr-dim-list:after {\n",
       "  content: \")\";\n",
       "}\n",
       "\n",
       ".xr-dim-list li:not(:last-child):after {\n",
       "  content: \",\";\n",
       "  padding-right: 5px;\n",
       "}\n",
       "\n",
       ".xr-has-index {\n",
       "  font-weight: bold;\n",
       "}\n",
       "\n",
       ".xr-var-list,\n",
       ".xr-var-item {\n",
       "  display: contents;\n",
       "}\n",
       "\n",
       ".xr-var-item > div,\n",
       ".xr-var-item label,\n",
       ".xr-var-item > .xr-var-name span {\n",
       "  background-color: var(--xr-background-color-row-even);\n",
       "  margin-bottom: 0;\n",
       "}\n",
       "\n",
       ".xr-var-item > .xr-var-name:hover span {\n",
       "  padding-right: 5px;\n",
       "}\n",
       "\n",
       ".xr-var-list > li:nth-child(odd) > div,\n",
       ".xr-var-list > li:nth-child(odd) > label,\n",
       ".xr-var-list > li:nth-child(odd) > .xr-var-name span {\n",
       "  background-color: var(--xr-background-color-row-odd);\n",
       "}\n",
       "\n",
       ".xr-var-name {\n",
       "  grid-column: 1;\n",
       "}\n",
       "\n",
       ".xr-var-dims {\n",
       "  grid-column: 2;\n",
       "}\n",
       "\n",
       ".xr-var-dtype {\n",
       "  grid-column: 3;\n",
       "  text-align: right;\n",
       "  color: var(--xr-font-color2);\n",
       "}\n",
       "\n",
       ".xr-var-preview {\n",
       "  grid-column: 4;\n",
       "}\n",
       "\n",
       ".xr-index-preview {\n",
       "  grid-column: 2 / 5;\n",
       "  color: var(--xr-font-color2);\n",
       "}\n",
       "\n",
       ".xr-var-name,\n",
       ".xr-var-dims,\n",
       ".xr-var-dtype,\n",
       ".xr-preview,\n",
       ".xr-attrs dt {\n",
       "  white-space: nowrap;\n",
       "  overflow: hidden;\n",
       "  text-overflow: ellipsis;\n",
       "  padding-right: 10px;\n",
       "}\n",
       "\n",
       ".xr-var-name:hover,\n",
       ".xr-var-dims:hover,\n",
       ".xr-var-dtype:hover,\n",
       ".xr-attrs dt:hover {\n",
       "  overflow: visible;\n",
       "  width: auto;\n",
       "  z-index: 1;\n",
       "}\n",
       "\n",
       ".xr-var-attrs,\n",
       ".xr-var-data,\n",
       ".xr-index-data {\n",
       "  display: none;\n",
       "  background-color: var(--xr-background-color) !important;\n",
       "  padding-bottom: 5px !important;\n",
       "}\n",
       "\n",
       ".xr-var-attrs-in:checked ~ .xr-var-attrs,\n",
       ".xr-var-data-in:checked ~ .xr-var-data,\n",
       ".xr-index-data-in:checked ~ .xr-index-data {\n",
       "  display: block;\n",
       "}\n",
       "\n",
       ".xr-var-data > table {\n",
       "  float: right;\n",
       "}\n",
       "\n",
       ".xr-var-name span,\n",
       ".xr-var-data,\n",
       ".xr-index-name div,\n",
       ".xr-index-data,\n",
       ".xr-attrs {\n",
       "  padding-left: 25px !important;\n",
       "}\n",
       "\n",
       ".xr-attrs,\n",
       ".xr-var-attrs,\n",
       ".xr-var-data,\n",
       ".xr-index-data {\n",
       "  grid-column: 1 / -1;\n",
       "}\n",
       "\n",
       "dl.xr-attrs {\n",
       "  padding: 0;\n",
       "  margin: 0;\n",
       "  display: grid;\n",
       "  grid-template-columns: 125px auto;\n",
       "}\n",
       "\n",
       ".xr-attrs dt,\n",
       ".xr-attrs dd {\n",
       "  padding: 0;\n",
       "  margin: 0;\n",
       "  float: left;\n",
       "  padding-right: 10px;\n",
       "  width: auto;\n",
       "}\n",
       "\n",
       ".xr-attrs dt {\n",
       "  font-weight: normal;\n",
       "  grid-column: 1;\n",
       "}\n",
       "\n",
       ".xr-attrs dt:hover span {\n",
       "  display: inline-block;\n",
       "  background: var(--xr-background-color);\n",
       "  padding-right: 10px;\n",
       "}\n",
       "\n",
       ".xr-attrs dd {\n",
       "  grid-column: 2;\n",
       "  white-space: pre-wrap;\n",
       "  word-break: break-all;\n",
       "}\n",
       "\n",
       ".xr-icon-database,\n",
       ".xr-icon-file-text2,\n",
       ".xr-no-icon {\n",
       "  display: inline-block;\n",
       "  vertical-align: middle;\n",
       "  width: 1em;\n",
       "  height: 1.5em !important;\n",
       "  stroke-width: 0;\n",
       "  stroke: currentColor;\n",
       "  fill: currentColor;\n",
       "}\n",
       "</style><pre class='xr-text-repr-fallback'>&lt;xarray.DataArray (band: 1, y: 208, x: 142)&gt; Size: 30kB\n",
       "[29536 values with dtype=uint8]\n",
       "Coordinates:\n",
       "  * band         (band) int64 8B 1\n",
       "  * x            (x) float64 1kB 6.414e+05 6.414e+05 ... 6.428e+05 6.428e+05\n",
       "  * y            (y) float64 2kB 5.23e+06 5.229e+06 ... 5.227e+06 5.227e+06\n",
       "    spatial_ref  int64 8B 0\n",
       "Attributes:\n",
       "    AREA_OR_POINT:               Area\n",
       "    institution:                 Copernicus Data Space Ecosystem openEO API -...\n",
       "    PROCESSING_SOFTWARE:         0.66.0a5\n",
       "    {TIFFTAG_IMAGEDESCRIPTION}:  SnowCoveredArea_0=nosnow_1=snow_2-nodatavalu...\n",
       "    STATISTICS_MAXIMUM:          1\n",
       "    STATISTICS_MEAN:             1\n",
       "    STATISTICS_MINIMUM:          1\n",
       "    STATISTICS_STDDEV:           0\n",
       "    STATISTICS_VALID_PERCENT:    38.01\n",
       "    _FillValue:                  2\n",
       "    scale_factor:                1.0\n",
       "    add_offset:                  0.0</pre><div class='xr-wrap' style='display:none'><div class='xr-header'><div class='xr-obj-type'>xarray.DataArray</div><div class='xr-array-name'></div><ul class='xr-dim-list'><li><span class='xr-has-index'>band</span>: 1</li><li><span class='xr-has-index'>y</span>: 208</li><li><span class='xr-has-index'>x</span>: 142</li></ul></div><ul class='xr-sections'><li class='xr-section-item'><div class='xr-array-wrap'><input id='section-f53014b2-9be8-4043-afb5-a64e780820c6' class='xr-array-in' type='checkbox' checked><label for='section-f53014b2-9be8-4043-afb5-a64e780820c6' title='Show/hide data repr'><svg class='icon xr-icon-database'><use xlink:href='#icon-database'></use></svg></label><div class='xr-array-preview xr-preview'><span>...</span></div><div class='xr-array-data'><pre>[29536 values with dtype=uint8]</pre></div></div></li><li class='xr-section-item'><input id='section-a4a6bddf-fc66-4cf6-9c26-66d95ecb7407' class='xr-section-summary-in' type='checkbox'  checked><label for='section-a4a6bddf-fc66-4cf6-9c26-66d95ecb7407' class='xr-section-summary' >Coordinates: <span>(4)</span></label><div class='xr-section-inline-details'></div><div class='xr-section-details'><ul class='xr-var-list'><li class='xr-var-item'><div class='xr-var-name'><span class='xr-has-index'>band</span></div><div class='xr-var-dims'>(band)</div><div class='xr-var-dtype'>int64</div><div class='xr-var-preview xr-preview'>1</div><input id='attrs-0dffeed8-134e-4ccc-9789-1f2dd125c799' class='xr-var-attrs-in' type='checkbox' disabled><label for='attrs-0dffeed8-134e-4ccc-9789-1f2dd125c799' title='Show/Hide attributes'><svg class='icon xr-icon-file-text2'><use xlink:href='#icon-file-text2'></use></svg></label><input id='data-8b9867f4-b862-47f5-a8ac-61d8f8882f27' class='xr-var-data-in' type='checkbox'><label for='data-8b9867f4-b862-47f5-a8ac-61d8f8882f27' title='Show/Hide data repr'><svg class='icon xr-icon-database'><use xlink:href='#icon-database'></use></svg></label><div class='xr-var-attrs'><dl class='xr-attrs'></dl></div><div class='xr-var-data'><pre>array([1])</pre></div></li><li class='xr-var-item'><div class='xr-var-name'><span class='xr-has-index'>x</span></div><div class='xr-var-dims'>(x)</div><div class='xr-var-dtype'>float64</div><div class='xr-var-preview xr-preview'>6.414e+05 6.414e+05 ... 6.428e+05</div><input id='attrs-8a506c93-0f77-48c5-b953-f1e9d8794ad1' class='xr-var-attrs-in' type='checkbox' disabled><label for='attrs-8a506c93-0f77-48c5-b953-f1e9d8794ad1' title='Show/Hide attributes'><svg class='icon xr-icon-file-text2'><use xlink:href='#icon-file-text2'></use></svg></label><input id='data-12ba9ac9-dabd-4416-b0f1-936b6251c16e' class='xr-var-data-in' type='checkbox'><label for='data-12ba9ac9-dabd-4416-b0f1-936b6251c16e' title='Show/Hide data repr'><svg class='icon xr-icon-database'><use xlink:href='#icon-database'></use></svg></label><div class='xr-var-attrs'><dl class='xr-attrs'></dl></div><div class='xr-var-data'><pre>array([641385., 641395., 641405., 641415., 641425., 641435., 641445., 641455.,\n",
       "       641465., 641475., 641485., 641495., 641505., 641515., 641525., 641535.,\n",
       "       641545., 641555., 641565., 641575., 641585., 641595., 641605., 641615.,\n",
       "       641625., 641635., 641645., 641655., 641665., 641675., 641685., 641695.,\n",
       "       641705., 641715., 641725., 641735., 641745., 641755., 641765., 641775.,\n",
       "       641785., 641795., 641805., 641815., 641825., 641835., 641845., 641855.,\n",
       "       641865., 641875., 641885., 641895., 641905., 641915., 641925., 641935.,\n",
       "       641945., 641955., 641965., 641975., 641985., 641995., 642005., 642015.,\n",
       "       642025., 642035., 642045., 642055., 642065., 642075., 642085., 642095.,\n",
       "       642105., 642115., 642125., 642135., 642145., 642155., 642165., 642175.,\n",
       "       642185., 642195., 642205., 642215., 642225., 642235., 642245., 642255.,\n",
       "       642265., 642275., 642285., 642295., 642305., 642315., 642325., 642335.,\n",
       "       642345., 642355., 642365., 642375., 642385., 642395., 642405., 642415.,\n",
       "       642425., 642435., 642445., 642455., 642465., 642475., 642485., 642495.,\n",
       "       642505., 642515., 642525., 642535., 642545., 642555., 642565., 642575.,\n",
       "       642585., 642595., 642605., 642615., 642625., 642635., 642645., 642655.,\n",
       "       642665., 642675., 642685., 642695., 642705., 642715., 642725., 642735.,\n",
       "       642745., 642755., 642765., 642775., 642785., 642795.])</pre></div></li><li class='xr-var-item'><div class='xr-var-name'><span class='xr-has-index'>y</span></div><div class='xr-var-dims'>(y)</div><div class='xr-var-dtype'>float64</div><div class='xr-var-preview xr-preview'>5.23e+06 5.229e+06 ... 5.227e+06</div><input id='attrs-8f194546-4fec-4927-89df-cae32b99d0b7' class='xr-var-attrs-in' type='checkbox' disabled><label for='attrs-8f194546-4fec-4927-89df-cae32b99d0b7' title='Show/Hide attributes'><svg class='icon xr-icon-file-text2'><use xlink:href='#icon-file-text2'></use></svg></label><input id='data-e971e5ef-9c79-4548-bc68-b4791884ca53' class='xr-var-data-in' type='checkbox'><label for='data-e971e5ef-9c79-4548-bc68-b4791884ca53' title='Show/Hide data repr'><svg class='icon xr-icon-database'><use xlink:href='#icon-database'></use></svg></label><div class='xr-var-attrs'><dl class='xr-attrs'></dl></div><div class='xr-var-data'><pre>array([5229505., 5229495., 5229485., ..., 5227455., 5227445., 5227435.])</pre></div></li><li class='xr-var-item'><div class='xr-var-name'><span>spatial_ref</span></div><div class='xr-var-dims'>()</div><div class='xr-var-dtype'>int64</div><div class='xr-var-preview xr-preview'>0</div><input id='attrs-488b534c-3b47-4122-aac1-59e643eaa4e0' class='xr-var-attrs-in' type='checkbox' ><label for='attrs-488b534c-3b47-4122-aac1-59e643eaa4e0' title='Show/Hide attributes'><svg class='icon xr-icon-file-text2'><use xlink:href='#icon-file-text2'></use></svg></label><input id='data-cfdb549f-c5a2-4257-98fd-73b7dfe54fa4' class='xr-var-data-in' type='checkbox'><label for='data-cfdb549f-c5a2-4257-98fd-73b7dfe54fa4' title='Show/Hide data repr'><svg class='icon xr-icon-database'><use xlink:href='#icon-database'></use></svg></label><div class='xr-var-attrs'><dl class='xr-attrs'><dt><span>crs_wkt :</span></dt><dd>PROJCS[&quot;WGS 84 / UTM zone 32N&quot;,GEOGCS[&quot;WGS 84&quot;,DATUM[&quot;WGS_1984&quot;,SPHEROID[&quot;WGS 84&quot;,6378137,298.257223563,AUTHORITY[&quot;EPSG&quot;,&quot;7030&quot;]],AUTHORITY[&quot;EPSG&quot;,&quot;6326&quot;]],PRIMEM[&quot;Greenwich&quot;,0,AUTHORITY[&quot;EPSG&quot;,&quot;8901&quot;]],UNIT[&quot;degree&quot;,0.0174532925199433,AUTHORITY[&quot;EPSG&quot;,&quot;9122&quot;]],AUTHORITY[&quot;EPSG&quot;,&quot;4326&quot;]],PROJECTION[&quot;Transverse_Mercator&quot;],PARAMETER[&quot;latitude_of_origin&quot;,0],PARAMETER[&quot;central_meridian&quot;,9],PARAMETER[&quot;scale_factor&quot;,0.9996],PARAMETER[&quot;false_easting&quot;,500000],PARAMETER[&quot;false_northing&quot;,0],UNIT[&quot;metre&quot;,1,AUTHORITY[&quot;EPSG&quot;,&quot;9001&quot;]],AXIS[&quot;Easting&quot;,EAST],AXIS[&quot;Northing&quot;,NORTH],AUTHORITY[&quot;EPSG&quot;,&quot;32632&quot;]]</dd><dt><span>semi_major_axis :</span></dt><dd>6378137.0</dd><dt><span>semi_minor_axis :</span></dt><dd>6356752.314245179</dd><dt><span>inverse_flattening :</span></dt><dd>298.257223563</dd><dt><span>reference_ellipsoid_name :</span></dt><dd>WGS 84</dd><dt><span>longitude_of_prime_meridian :</span></dt><dd>0.0</dd><dt><span>prime_meridian_name :</span></dt><dd>Greenwich</dd><dt><span>geographic_crs_name :</span></dt><dd>WGS 84</dd><dt><span>horizontal_datum_name :</span></dt><dd>World Geodetic System 1984</dd><dt><span>projected_crs_name :</span></dt><dd>WGS 84 / UTM zone 32N</dd><dt><span>grid_mapping_name :</span></dt><dd>transverse_mercator</dd><dt><span>latitude_of_projection_origin :</span></dt><dd>0.0</dd><dt><span>longitude_of_central_meridian :</span></dt><dd>9.0</dd><dt><span>false_easting :</span></dt><dd>500000.0</dd><dt><span>false_northing :</span></dt><dd>0.0</dd><dt><span>scale_factor_at_central_meridian :</span></dt><dd>0.9996</dd><dt><span>spatial_ref :</span></dt><dd>PROJCS[&quot;WGS 84 / UTM zone 32N&quot;,GEOGCS[&quot;WGS 84&quot;,DATUM[&quot;WGS_1984&quot;,SPHEROID[&quot;WGS 84&quot;,6378137,298.257223563,AUTHORITY[&quot;EPSG&quot;,&quot;7030&quot;]],AUTHORITY[&quot;EPSG&quot;,&quot;6326&quot;]],PRIMEM[&quot;Greenwich&quot;,0,AUTHORITY[&quot;EPSG&quot;,&quot;8901&quot;]],UNIT[&quot;degree&quot;,0.0174532925199433,AUTHORITY[&quot;EPSG&quot;,&quot;9122&quot;]],AUTHORITY[&quot;EPSG&quot;,&quot;4326&quot;]],PROJECTION[&quot;Transverse_Mercator&quot;],PARAMETER[&quot;latitude_of_origin&quot;,0],PARAMETER[&quot;central_meridian&quot;,9],PARAMETER[&quot;scale_factor&quot;,0.9996],PARAMETER[&quot;false_easting&quot;,500000],PARAMETER[&quot;false_northing&quot;,0],UNIT[&quot;metre&quot;,1,AUTHORITY[&quot;EPSG&quot;,&quot;9001&quot;]],AXIS[&quot;Easting&quot;,EAST],AXIS[&quot;Northing&quot;,NORTH],AUTHORITY[&quot;EPSG&quot;,&quot;32632&quot;]]</dd><dt><span>GeoTransform :</span></dt><dd>641380.0 10.0 0.0 5229510.0 0.0 -10.0</dd></dl></div><div class='xr-var-data'><pre>array(0)</pre></div></li></ul></div></li><li class='xr-section-item'><input id='section-af63c1b7-ed37-423f-9da5-0a29f03db4d2' class='xr-section-summary-in' type='checkbox'  ><label for='section-af63c1b7-ed37-423f-9da5-0a29f03db4d2' class='xr-section-summary' >Indexes: <span>(3)</span></label><div class='xr-section-inline-details'></div><div class='xr-section-details'><ul class='xr-var-list'><li class='xr-var-item'><div class='xr-index-name'><div>band</div></div><div class='xr-index-preview'>PandasIndex</div><input type='checkbox' disabled/><label></label><input id='index-88916e96-959b-4311-86a2-680918b050a3' class='xr-index-data-in' type='checkbox'/><label for='index-88916e96-959b-4311-86a2-680918b050a3' title='Show/Hide index repr'><svg class='icon xr-icon-database'><use xlink:href='#icon-database'></use></svg></label><div class='xr-index-data'><pre>PandasIndex(Index([1], dtype=&#x27;int64&#x27;, name=&#x27;band&#x27;))</pre></div></li><li class='xr-var-item'><div class='xr-index-name'><div>x</div></div><div class='xr-index-preview'>PandasIndex</div><input type='checkbox' disabled/><label></label><input id='index-18d87311-3b5a-4173-9855-0bc75c645d6f' class='xr-index-data-in' type='checkbox'/><label for='index-18d87311-3b5a-4173-9855-0bc75c645d6f' title='Show/Hide index repr'><svg class='icon xr-icon-database'><use xlink:href='#icon-database'></use></svg></label><div class='xr-index-data'><pre>PandasIndex(Index([641385.0, 641395.0, 641405.0, 641415.0, 641425.0, 641435.0, 641445.0,\n",
       "       641455.0, 641465.0, 641475.0,\n",
       "       ...\n",
       "       642705.0, 642715.0, 642725.0, 642735.0, 642745.0, 642755.0, 642765.0,\n",
       "       642775.0, 642785.0, 642795.0],\n",
       "      dtype=&#x27;float64&#x27;, name=&#x27;x&#x27;, length=142))</pre></div></li><li class='xr-var-item'><div class='xr-index-name'><div>y</div></div><div class='xr-index-preview'>PandasIndex</div><input type='checkbox' disabled/><label></label><input id='index-6071a8bf-b54f-4142-bfff-453d53e13174' class='xr-index-data-in' type='checkbox'/><label for='index-6071a8bf-b54f-4142-bfff-453d53e13174' title='Show/Hide index repr'><svg class='icon xr-icon-database'><use xlink:href='#icon-database'></use></svg></label><div class='xr-index-data'><pre>PandasIndex(Index([5229505.0, 5229495.0, 5229485.0, 5229475.0, 5229465.0, 5229455.0,\n",
       "       5229445.0, 5229435.0, 5229425.0, 5229415.0,\n",
       "       ...\n",
       "       5227525.0, 5227515.0, 5227505.0, 5227495.0, 5227485.0, 5227475.0,\n",
       "       5227465.0, 5227455.0, 5227445.0, 5227435.0],\n",
       "      dtype=&#x27;float64&#x27;, name=&#x27;y&#x27;, length=208))</pre></div></li></ul></div></li><li class='xr-section-item'><input id='section-115bc5ed-d787-4ead-9d58-e5950f6c4c96' class='xr-section-summary-in' type='checkbox'  ><label for='section-115bc5ed-d787-4ead-9d58-e5950f6c4c96' class='xr-section-summary' >Attributes: <span>(12)</span></label><div class='xr-section-inline-details'></div><div class='xr-section-details'><dl class='xr-attrs'><dt><span>AREA_OR_POINT :</span></dt><dd>Area</dd><dt><span>institution :</span></dt><dd>Copernicus Data Space Ecosystem openEO API - 0.66.0a5.dev20250619+2770</dd><dt><span>PROCESSING_SOFTWARE :</span></dt><dd>0.66.0a5</dd><dt><span>{TIFFTAG_IMAGEDESCRIPTION} :</span></dt><dd>SnowCoveredArea_0=nosnow_1=snow_2-nodatavalue=cloud</dd><dt><span>STATISTICS_MAXIMUM :</span></dt><dd>1</dd><dt><span>STATISTICS_MEAN :</span></dt><dd>1</dd><dt><span>STATISTICS_MINIMUM :</span></dt><dd>1</dd><dt><span>STATISTICS_STDDEV :</span></dt><dd>0</dd><dt><span>STATISTICS_VALID_PERCENT :</span></dt><dd>38.01</dd><dt><span>_FillValue :</span></dt><dd>2</dd><dt><span>scale_factor :</span></dt><dd>1.0</dd><dt><span>add_offset :</span></dt><dd>0.0</dd></dl></div></li></ul></div></div>"
      ],
      "text/plain": [
       "<xarray.DataArray (band: 1, y: 208, x: 142)> Size: 30kB\n",
       "[29536 values with dtype=uint8]\n",
       "Coordinates:\n",
       "  * band         (band) int64 8B 1\n",
       "  * x            (x) float64 1kB 6.414e+05 6.414e+05 ... 6.428e+05 6.428e+05\n",
       "  * y            (y) float64 2kB 5.23e+06 5.229e+06 ... 5.227e+06 5.227e+06\n",
       "    spatial_ref  int64 8B 0\n",
       "Attributes:\n",
       "    AREA_OR_POINT:               Area\n",
       "    institution:                 Copernicus Data Space Ecosystem openEO API -...\n",
       "    PROCESSING_SOFTWARE:         0.66.0a5\n",
       "    {TIFFTAG_IMAGEDESCRIPTION}:  SnowCoveredArea_0=nosnow_1=snow_2-nodatavalu...\n",
       "    STATISTICS_MAXIMUM:          1\n",
       "    STATISTICS_MEAN:             1\n",
       "    STATISTICS_MINIMUM:          1\n",
       "    STATISTICS_STDDEV:           0\n",
       "    STATISTICS_VALID_PERCENT:    38.01\n",
       "    _FillValue:                  2\n",
       "    scale_factor:                1.0\n",
       "    add_offset:                  0.0"
      ]
     },
     "execution_count": 17,
     "metadata": {},
     "output_type": "execute_result"
    }
   ],
   "source": [
    "snowmap = rio.open_rasterio(\"33_results/openEO_uint8.tif\", decode_coords=\"all\")\n",
    "snowmap"
   ]
  },
  {
   "cell_type": "markdown",
   "id": "b00131b6-23a1-4c61-9ab4-03ee5f8288f8",
   "metadata": {},
   "source": [
    "Now, we check if the nodata value can be determined directly from the COG metadata"
   ]
  },
  {
   "cell_type": "code",
   "execution_count": 18,
   "id": "3b799cc3-20be-4927-9e16-49ded2f0cbe0",
   "metadata": {
    "tags": []
   },
   "outputs": [
    {
     "data": {
      "text/plain": [
       "2"
      ]
     },
     "execution_count": 18,
     "metadata": {},
     "output_type": "execute_result"
    }
   ],
   "source": [
    "snowmap.rio.nodata"
   ]
  },
  {
   "cell_type": "markdown",
   "id": "06ebdfae-948b-45e2-97ff-1f7917eff3d5",
   "metadata": {},
   "source": [
    "Now, we make a plot of the snowmap keeping in mind that `0 = no snow`, `1 = snow`, and `2 = clouds (nodata value)`"
   ]
  },
  {
   "cell_type": "code",
   "execution_count": 19,
   "id": "82685fa0-8f9a-4174-9287-324ac6c65709",
   "metadata": {
    "tags": []
   },
   "outputs": [
    {
     "data": {
      "image/png": "[encoded data removed]",
      "text/plain": [
       "<Figure size 640x480 with 2 Axes>"
      ]
     },
     "metadata": {},
     "output_type": "display_data"
    }
   ],
   "source": [
    "snowmap.plot(levels=[0, 1, 2])\n",
    "plt.title(\"Spatial distribution of snow, no snow and cloudy pixels\")\n",
    "plt.ylabel(\"Latitude\")\n",
    "plt.xlabel(\"Longitude\")\n",
    "plt.tight_layout()"
   ]
  },
  {
   "cell_type": "markdown",
   "id": "c45c4607-5540-42d7-9646-0cd1826eca5d",
   "metadata": {},
   "source": [
    "Let's have a look at the histogram to understand the distribution of the values in our map"
   ]
  },
  {
   "cell_type": "code",
   "execution_count": 20,
   "id": "c9ed448e-d027-474e-83ec-7a361edf134e",
   "metadata": {
    "tags": []
   },
   "outputs": [
    {
     "data": {
      "image/png": "[encoded data removed]",
      "text/plain": [
       "<Figure size 640x480 with 1 Axes>"
      ]
     },
     "metadata": {},
     "output_type": "display_data"
    }
   ],
   "source": [
    "data = snowmap.values.flatten()\n",
    "snowmap.plot.hist(xticks = [0, 1, 2], weights=np.ones(len(data)) / len(data))\n",
    "\n",
    "plt.gca().yaxis.set_major_formatter(PercentFormatter(1))\n",
    "plt.gca().set_xticklabels([\"0 - No Snow\", \"1 - Snow\", \"2 - Cloud\"])\n",
    "plt.title(\"Distribution of no snow, snow and cloud pixels\")\n",
    "plt.show()"
   ]
  },
  {
   "cell_type": "markdown",
   "id": "65b9ec26-14be-4599-80a1-b44bde541a98",
   "metadata": {},
   "source": [
    "## Load STAC metadata\n",
    "In addition to the COG we also receive STAC metadata for our result.\n",
    "Let's have a look at it."
   ]
  },
  {
   "cell_type": "code",
   "execution_count": 21,
   "id": "1cee7c43-d939-462c-853d-d80a5883dd9b",
   "metadata": {
    "scrolled": true,
    "tags": []
   },
   "outputs": [
    {
     "data": {
      "text/plain": [
       "{'assets': {'openEO.tif': {'href': 'https://openeo.dataspace.copernicus.eu/openeo/1.2/jobs/j-2506280606464883921bdf7c12ed3b5b/results/assets/ODZiODRiMjMtNWM4Yi00ZGIwLWFiMDMtZDA1MTM3ODgxZmFj/7eb0c83657e0a96ee943301e47fa01d7/openEO.tif?expires=1751695755',\n",
       "   'proj:bbox': [641380, 5227430, 642800, 5229510],\n",
       "   'proj:epsg': 32632,\n",
       "   'proj:shape': [208, 142],\n",
       "   'raster:bands': [{'name': '1',\n",
       "     'statistics': {'maximum': 2,\n",
       "      'mean': 1.6198537378115,\n",
       "      'minimum': 1,\n",
       "      'stddev': 0.48542258036954,\n",
       "      'valid_percent': 100}}],\n",
       "   'roles': ['data'],\n",
       "   'title': 'openEO.tif',\n",
       "   'type': 'image/tiff; application=geotiff'}},\n",
       " 'description': 'Results for batch job j-2506280606464883921bdf7c12ed3b5b',\n",
       " 'extent': {'spatial': {'bbox': [[10.866784783940814,\n",
       "     47.18518829848707,\n",
       "     10.884771216059187,\n",
       "     47.203503701512936]]},\n",
       "  'temporal': {'interval': [['2024-12-20T00:00:00Z',\n",
       "     '2025-03-20T00:00:00Z']]}},\n",
       " 'id': 'j-2506280606464883921bdf7c12ed3b5b',\n",
       " 'license': 'proprietary',\n",
       " 'links': [{'href': '/eodata/Sentinel-2/MSI/L2A/2025/01/15/S2A_MSIL2A_20250115T102351_N0511_R065_T32TPT_20250115T142751.SAFE',\n",
       "   'rel': 'derived_from',\n",
       "   'title': 'Derived from /eodata/Sentinel-2/MSI/L2A/2025/01/15/S2A_MSIL2A_20250115T102351_N0511_R065_T32TPT_20250115T142751.SAFE',\n",
       "   'type': 'application/json'},\n",
       "  {'href': '/eodata/Sentinel-2/MSI/L2A/2024/12/26/S2A_MSIL2A_20241226T102441_N0511_R065_T32TPT_20241226T120746.SAFE',\n",
       "   'rel': 'derived_from',\n",
       "   'title': 'Derived from /eodata/Sentinel-2/MSI/L2A/2024/12/26/S2A_MSIL2A_20241226T102441_N0511_R065_T32TPT_20241226T120746.SAFE',\n",
       "   'type': 'application/json'},\n",
       "  {'href': '/eodata/Sentinel-2/MSI/L2A/2025/02/01/S2C_MSIL2A_20250201T101301_N0511_R022_T32TPT_20250201T144110.SAFE',\n",
       "   'rel': 'derived_from',\n",
       "   'title': 'Derived from /eodata/Sentinel-2/MSI/L2A/2025/02/01/S2C_MSIL2A_20250201T101301_N0511_R022_T32TPT_20250201T144110.SAFE',\n",
       "   'type': 'application/json'},\n",
       "  {'href': '/eodata/Sentinel-2/MSI/L2A/2025/02/16/S2B_MSIL2A_20250216T101029_N0511_R022_T32TPT_20250216T124822.SAFE',\n",
       "   'rel': 'derived_from',\n",
       "   'title': 'Derived from /eodata/Sentinel-2/MSI/L2A/2025/02/16/S2B_MSIL2A_20250216T101029_N0511_R022_T32TPT_20250216T124822.SAFE',\n",
       "   'type': 'application/json'},\n",
       "  {'href': '/eodata/Sentinel-2/MSI/L2A/2025/01/25/S2C_MSIL2A_20250125T102341_N0511_R065_T32TPT_20250125T134454.SAFE',\n",
       "   'rel': 'derived_from',\n",
       "   'title': 'Derived from /eodata/Sentinel-2/MSI/L2A/2025/01/25/S2C_MSIL2A_20250125T102341_N0511_R065_T32TPT_20250125T134454.SAFE',\n",
       "   'type': 'application/json'},\n",
       "  {'href': '/eodata/Sentinel-2/MSI/L2A/2025/03/03/S2C_MSIL2A_20250303T100951_N0511_R022_T32TPT_20250303T155811.SAFE',\n",
       "   'rel': 'derived_from',\n",
       "   'title': 'Derived from /eodata/Sentinel-2/MSI/L2A/2025/03/03/S2C_MSIL2A_20250303T100951_N0511_R022_T32TPT_20250303T155811.SAFE',\n",
       "   'type': 'application/json'},\n",
       "  {'href': '/eodata/Sentinel-2/MSI/L2A/2025/03/16/S2C_MSIL2A_20250316T101821_N0511_R065_T32TPT_20250316T161715.SAFE',\n",
       "   'rel': 'derived_from',\n",
       "   'title': 'Derived from /eodata/Sentinel-2/MSI/L2A/2025/03/16/S2C_MSIL2A_20250316T101821_N0511_R065_T32TPT_20250316T161715.SAFE',\n",
       "   'type': 'application/json'},\n",
       "  {'href': '/eodata/Sentinel-2/MSI/L2A/2025/01/05/S2A_MSIL2A_20250105T102421_N0511_R065_T32TPT_20250105T143159.SAFE',\n",
       "   'rel': 'derived_from',\n",
       "   'title': 'Derived from /eodata/Sentinel-2/MSI/L2A/2025/01/05/S2A_MSIL2A_20250105T102421_N0511_R065_T32TPT_20250105T143159.SAFE',\n",
       "   'type': 'application/json'},\n",
       "  {'href': '/eodata/Sentinel-2/MSI/L2A/2025/03/13/S2C_MSIL2A_20250313T100831_N0511_R022_T32TPT_20250313T155418.SAFE',\n",
       "   'rel': 'derived_from',\n",
       "   'title': 'Derived from /eodata/Sentinel-2/MSI/L2A/2025/03/13/S2C_MSIL2A_20250313T100831_N0511_R022_T32TPT_20250313T155418.SAFE',\n",
       "   'type': 'application/json'},\n",
       "  {'href': '/eodata/Sentinel-2/MSI/L2A/2025/01/22/S2C_MSIL2A_20250122T101351_N0511_R022_T32TPT_20250122T132209.SAFE',\n",
       "   'rel': 'derived_from',\n",
       "   'title': 'Derived from /eodata/Sentinel-2/MSI/L2A/2025/01/22/S2C_MSIL2A_20250122T101351_N0511_R022_T32TPT_20250122T132209.SAFE',\n",
       "   'type': 'application/json'},\n",
       "  {'href': '/eodata/Sentinel-2/MSI/L2A/2025/01/30/S2B_MSIL2A_20250130T102159_N0511_R065_T32TPT_20250130T141238.SAFE',\n",
       "   'rel': 'derived_from',\n",
       "   'title': 'Derived from /eodata/Sentinel-2/MSI/L2A/2025/01/30/S2B_MSIL2A_20250130T102159_N0511_R065_T32TPT_20250130T141238.SAFE',\n",
       "   'type': 'application/json'},\n",
       "  {'href': '/eodata/Sentinel-2/MSI/L2A/2025/02/19/S2B_MSIL2A_20250219T101959_N0511_R065_T32TPT_20250219T142054.SAFE',\n",
       "   'rel': 'derived_from',\n",
       "   'title': 'Derived from /eodata/Sentinel-2/MSI/L2A/2025/02/19/S2B_MSIL2A_20250219T101959_N0511_R065_T32TPT_20250219T142054.SAFE',\n",
       "   'type': 'application/json'},\n",
       "  {'href': '/eodata/Sentinel-2/MSI/L2A/2025/01/27/S2B_MSIL2A_20250127T101209_N0511_R022_T32TPT_20250127T130241.SAFE',\n",
       "   'rel': 'derived_from',\n",
       "   'title': 'Derived from /eodata/Sentinel-2/MSI/L2A/2025/01/27/S2B_MSIL2A_20250127T101209_N0511_R022_T32TPT_20250127T130241.SAFE',\n",
       "   'type': 'application/json'},\n",
       "  {'href': '/eodata/Sentinel-2/MSI/L2A/2024/12/31/S2B_MSIL2A_20241231T102339_N0511_R065_T32TPT_20241231T130720.SAFE',\n",
       "   'rel': 'derived_from',\n",
       "   'title': 'Derived from /eodata/Sentinel-2/MSI/L2A/2024/12/31/S2B_MSIL2A_20241231T102339_N0511_R065_T32TPT_20241231T130720.SAFE',\n",
       "   'type': 'application/json'},\n",
       "  {'href': '/eodata/Sentinel-2/MSI/L2A/2025/02/09/S2B_MSIL2A_20250209T102059_N0511_R065_T32TPT_20250209T142037.SAFE',\n",
       "   'rel': 'derived_from',\n",
       "   'title': 'Derived from /eodata/Sentinel-2/MSI/L2A/2025/02/09/S2B_MSIL2A_20250209T102059_N0511_R065_T32TPT_20250209T142037.SAFE',\n",
       "   'type': 'application/json'},\n",
       "  {'href': '/eodata/Sentinel-2/MSI/L2A/2025/01/20/S2B_MSIL2A_20250120T102239_N0511_R065_T32TPT_20250120T130540.SAFE',\n",
       "   'rel': 'derived_from',\n",
       "   'title': 'Derived from /eodata/Sentinel-2/MSI/L2A/2025/01/20/S2B_MSIL2A_20250120T102239_N0511_R065_T32TPT_20250120T130540.SAFE',\n",
       "   'type': 'application/json'},\n",
       "  {'href': '/eodata/Sentinel-2/MSI/L2A/2025/02/24/S2C_MSIL2A_20250224T102051_N0511_R065_T32TPT_20250224T155012.SAFE',\n",
       "   'rel': 'derived_from',\n",
       "   'title': 'Derived from /eodata/Sentinel-2/MSI/L2A/2025/02/24/S2C_MSIL2A_20250224T102051_N0511_R065_T32TPT_20250224T155012.SAFE',\n",
       "   'type': 'application/json'},\n",
       "  {'href': '/eodata/Sentinel-2/MSI/L2A/2025/01/07/S2B_MSIL2A_20250107T101319_N0511_R022_T32TPT_20250107T130354.SAFE',\n",
       "   'rel': 'derived_from',\n",
       "   'title': 'Derived from /eodata/Sentinel-2/MSI/L2A/2025/01/07/S2B_MSIL2A_20250107T101319_N0511_R022_T32TPT_20250107T130354.SAFE',\n",
       "   'type': 'application/json'},\n",
       "  {'href': '/eodata/Sentinel-2/MSI/L2A/2025/02/04/S2C_MSIL2A_20250204T102251_N0511_R065_T32TPT_20250204T144157.SAFE',\n",
       "   'rel': 'derived_from',\n",
       "   'title': 'Derived from /eodata/Sentinel-2/MSI/L2A/2025/02/04/S2C_MSIL2A_20250204T102251_N0511_R065_T32TPT_20250204T144157.SAFE',\n",
       "   'type': 'application/json'},\n",
       "  {'href': '/eodata/Sentinel-2/MSI/L2A/2025/03/11/S2B_MSIL2A_20250311T101739_N0511_R065_T32TPT_20250311T142040.SAFE',\n",
       "   'rel': 'derived_from',\n",
       "   'title': 'Derived from /eodata/Sentinel-2/MSI/L2A/2025/03/11/S2B_MSIL2A_20250311T101739_N0511_R065_T32TPT_20250311T142040.SAFE',\n",
       "   'type': 'application/json'},\n",
       "  {'href': '/eodata/Sentinel-2/MSI/L2A/2025/01/02/S2A_MSIL2A_20250102T101421_N0511_R022_T32TPT_20250102T120757.SAFE',\n",
       "   'rel': 'derived_from',\n",
       "   'title': 'Derived from /eodata/Sentinel-2/MSI/L2A/2025/01/02/S2A_MSIL2A_20250102T101421_N0511_R022_T32TPT_20250102T120757.SAFE',\n",
       "   'type': 'application/json'},\n",
       "  {'href': '/eodata/Sentinel-2/MSI/L2A/2025/01/17/S2B_MSIL2A_20250117T101249_N0511_R022_T32TPT_20250117T154407.SAFE',\n",
       "   'rel': 'derived_from',\n",
       "   'title': 'Derived from /eodata/Sentinel-2/MSI/L2A/2025/01/17/S2B_MSIL2A_20250117T101249_N0511_R022_T32TPT_20250117T154407.SAFE',\n",
       "   'type': 'application/json'},\n",
       "  {'href': '/eodata/Sentinel-2/MSI/L2A/2025/02/26/S2B_MSIL2A_20250226T100909_N0511_R022_T32TPT_20250226T123142.SAFE',\n",
       "   'rel': 'derived_from',\n",
       "   'title': 'Derived from /eodata/Sentinel-2/MSI/L2A/2025/02/26/S2B_MSIL2A_20250226T100909_N0511_R022_T32TPT_20250226T123142.SAFE',\n",
       "   'type': 'application/json'},\n",
       "  {'href': '/eodata/Sentinel-2/MSI/L2A/2025/03/18/S2A_MSIL2A_20250318T101751_N0511_R065_T32TPT_20250318T160400.SAFE',\n",
       "   'rel': 'derived_from',\n",
       "   'title': 'Derived from /eodata/Sentinel-2/MSI/L2A/2025/03/18/S2A_MSIL2A_20250318T101751_N0511_R065_T32TPT_20250318T160400.SAFE',\n",
       "   'type': 'application/json'},\n",
       "  {'href': '/eodata/Sentinel-2/MSI/L2A/2025/01/10/S2B_MSIL2A_20250110T102319_N0511_R065_T32TPT_20250110T130712.SAFE',\n",
       "   'rel': 'derived_from',\n",
       "   'title': 'Derived from /eodata/Sentinel-2/MSI/L2A/2025/01/10/S2B_MSIL2A_20250110T102319_N0511_R065_T32TPT_20250110T130712.SAFE',\n",
       "   'type': 'application/json'},\n",
       "  {'href': '/eodata/Sentinel-2/MSI/L2A/2025/02/21/S2C_MSIL2A_20250221T101051_N0511_R022_T32TPT_20250221T174112.SAFE',\n",
       "   'rel': 'derived_from',\n",
       "   'title': 'Derived from /eodata/Sentinel-2/MSI/L2A/2025/02/21/S2C_MSIL2A_20250221T101051_N0511_R022_T32TPT_20250221T174112.SAFE',\n",
       "   'type': 'application/json'},\n",
       "  {'href': '/eodata/Sentinel-2/MSI/L2A/2025/03/01/S2B_MSIL2A_20250301T101849_N0511_R065_T32TPT_20250301T131130.SAFE',\n",
       "   'rel': 'derived_from',\n",
       "   'title': 'Derived from /eodata/Sentinel-2/MSI/L2A/2025/03/01/S2B_MSIL2A_20250301T101849_N0511_R065_T32TPT_20250301T131130.SAFE',\n",
       "   'type': 'application/json'},\n",
       "  {'href': '/eodata/Sentinel-2/MSI/L2A/2024/12/23/S2A_MSIL2A_20241223T101431_N0511_R022_T32TPT_20241223T121855.SAFE',\n",
       "   'rel': 'derived_from',\n",
       "   'title': 'Derived from /eodata/Sentinel-2/MSI/L2A/2024/12/23/S2A_MSIL2A_20241223T101431_N0511_R022_T32TPT_20241223T121855.SAFE',\n",
       "   'type': 'application/json'},\n",
       "  {'href': '/eodata/Sentinel-2/MSI/L2A/2025/02/14/S2C_MSIL2A_20250214T102151_N0511_R065_T32TPT_20250214T142511.SAFE',\n",
       "   'rel': 'derived_from',\n",
       "   'title': 'Derived from /eodata/Sentinel-2/MSI/L2A/2025/02/14/S2C_MSIL2A_20250214T102151_N0511_R065_T32TPT_20250214T142511.SAFE',\n",
       "   'type': 'application/json'},\n",
       "  {'href': '/eodata/Sentinel-2/MSI/L2A/2025/03/15/S2A_MSIL2A_20250315T101041_N0511_R022_T32TPT_20250315T153121.SAFE',\n",
       "   'rel': 'derived_from',\n",
       "   'title': 'Derived from /eodata/Sentinel-2/MSI/L2A/2025/03/15/S2A_MSIL2A_20250315T101041_N0511_R022_T32TPT_20250315T153121.SAFE',\n",
       "   'type': 'application/json'},\n",
       "  {'href': '/eodata/Sentinel-2/MSI/L2A/2025/02/06/S2B_MSIL2A_20250206T101109_N0511_R022_T32TPT_20250206T122414.SAFE',\n",
       "   'rel': 'derived_from',\n",
       "   'title': 'Derived from /eodata/Sentinel-2/MSI/L2A/2025/02/06/S2B_MSIL2A_20250206T101109_N0511_R022_T32TPT_20250206T122414.SAFE',\n",
       "   'type': 'application/json'},\n",
       "  {'href': '/eodata/Sentinel-2/MSI/L2A/2024/12/21/S2B_MSIL2A_20241221T102339_N0511_R065_T32TPT_20241221T142404.SAFE',\n",
       "   'rel': 'derived_from',\n",
       "   'title': 'Derived from /eodata/Sentinel-2/MSI/L2A/2024/12/21/S2B_MSIL2A_20241221T102339_N0511_R065_T32TPT_20241221T142404.SAFE',\n",
       "   'type': 'application/json'},\n",
       "  {'href': '/eodata/Sentinel-2/MSI/L2A/2025/03/06/S2C_MSIL2A_20250306T101931_N0511_R065_T32TPT_20250306T152957.SAFE',\n",
       "   'rel': 'derived_from',\n",
       "   'title': 'Derived from /eodata/Sentinel-2/MSI/L2A/2025/03/06/S2C_MSIL2A_20250306T101931_N0511_R065_T32TPT_20250306T152957.SAFE',\n",
       "   'type': 'application/json'},\n",
       "  {'href': '/eodata/Sentinel-2/MSI/L2A/2025/03/08/S2B_MSIL2A_20250308T100749_N0511_R022_T32TPT_20250308T122841.SAFE',\n",
       "   'rel': 'derived_from',\n",
       "   'title': 'Derived from /eodata/Sentinel-2/MSI/L2A/2025/03/08/S2B_MSIL2A_20250308T100749_N0511_R022_T32TPT_20250308T122841.SAFE',\n",
       "   'type': 'application/json'},\n",
       "  {'href': '/eodata/Sentinel-2/MSI/L2A/2025/02/11/S2C_MSIL2A_20250211T101201_N0511_R022_T32TPT_20250211T142256.SAFE',\n",
       "   'rel': 'derived_from',\n",
       "   'title': 'Derived from /eodata/Sentinel-2/MSI/L2A/2025/02/11/S2C_MSIL2A_20250211T101201_N0511_R022_T32TPT_20250211T142256.SAFE',\n",
       "   'type': 'application/json'},\n",
       "  {'href': '/eodata/Sentinel-2/MSI/L2A/2025/01/12/S2A_MSIL2A_20250112T101401_N0511_R022_T32TPT_20250112T122449.SAFE',\n",
       "   'rel': 'derived_from',\n",
       "   'title': 'Derived from /eodata/Sentinel-2/MSI/L2A/2025/01/12/S2A_MSIL2A_20250112T101401_N0511_R022_T32TPT_20250112T122449.SAFE',\n",
       "   'type': 'application/json'},\n",
       "  {'href': '/eodata/Sentinel-2/MSI/L2A/2024/12/28/S2B_MSIL2A_20241228T101339_N0511_R022_T32TPT_20241228T123245.SAFE',\n",
       "   'rel': 'derived_from',\n",
       "   'title': 'Derived from /eodata/Sentinel-2/MSI/L2A/2024/12/28/S2B_MSIL2A_20241228T101339_N0511_R022_T32TPT_20241228T123245.SAFE',\n",
       "   'type': 'application/json'},\n",
       "  {'href': 'https://openeo.dataspace.copernicus.eu/openeo/1.2/jobs/j-2506280606464883921bdf7c12ed3b5b/results',\n",
       "   'rel': 'self',\n",
       "   'type': 'application/json'},\n",
       "  {'href': 'https://openeo.dataspace.copernicus.eu/openeo/1.2/jobs/j-2506280606464883921bdf7c12ed3b5b/results/ODZiODRiMjMtNWM4Yi00ZGIwLWFiMDMtZDA1MTM3ODgxZmFj/dabd1ab5d918f9e1dabdacb034a7e3ee?expires=1751695755',\n",
       "   'rel': 'canonical',\n",
       "   'type': 'application/json'},\n",
       "  {'href': 'http://ceos.org/ard/files/PFS/SR/v5.0/CARD4L_Product_Family_Specification_Surface_Reflectance-v5.0.pdf',\n",
       "   'rel': 'card4l-document',\n",
       "   'type': 'application/pdf'},\n",
       "  {'href': 'https://openeo.dataspace.copernicus.eu/openeo/1.2/jobs/j-2506280606464883921bdf7c12ed3b5b/results/items/ODZiODRiMjMtNWM4Yi00ZGIwLWFiMDMtZDA1MTM3ODgxZmFj/7eb0c83657e0a96ee943301e47fa01d7/openEO.tif?expires=1751695755',\n",
       "   'rel': 'item',\n",
       "   'type': 'application/geo+json'}],\n",
       " 'openeo:status': 'finished',\n",
       " 'providers': [{'description': 'This data was processed on an openEO backend maintained by VITO.',\n",
       "   'name': 'VITO',\n",
       "   'processing:expression': {'expression': {'loadcollection1': {'arguments': {'bands': ['B03',\n",
       "        'B11',\n",
       "        'SCL'],\n",
       "       'id': 'SENTINEL2_L2A',\n",
       "       'spatial_extent': {'crs': 4326,\n",
       "        'east': 10.884771216059187,\n",
       "        'north': 47.203503701512936,\n",
       "        'south': 47.18518829848707,\n",
       "        'west': 10.866784783940814},\n",
       "       'temporal_extent': ['2024-12-20', '2025-03-20']},\n",
       "      'process_id': 'load_collection'},\n",
       "     'mask1': {'arguments': {'data': {'from_node': 'reducedimension1'},\n",
       "       'mask': {'from_node': 'reducedimension2'},\n",
       "       'replacement': 2},\n",
       "      'process_id': 'mask'},\n",
       "     'reducedimension1': {'arguments': {'data': {'from_node': 'loadcollection1'},\n",
       "       'dimension': 'bands',\n",
       "       'reducer': {'process_graph': {'add1': {'arguments': {'x': {'from_node': 'arrayelement1'},\n",
       "           'y': {'from_node': 'arrayelement2'}},\n",
       "          'process_id': 'add'},\n",
       "         'arrayelement1': {'arguments': {'data': {'from_parameter': 'data'},\n",
       "           'index': 0},\n",
       "          'process_id': 'array_element'},\n",
       "         'arrayelement2': {'arguments': {'data': {'from_parameter': 'data'},\n",
       "           'index': 1},\n",
       "          'process_id': 'array_element'},\n",
       "         'divide1': {'arguments': {'x': {'from_node': 'subtract1'},\n",
       "           'y': {'from_node': 'add1'}},\n",
       "          'process_id': 'divide'},\n",
       "         'gt1': {'arguments': {'x': {'from_node': 'divide1'}, 'y': 0.4},\n",
       "          'process_id': 'gt'},\n",
       "         'multiply1': {'arguments': {'x': {'from_node': 'gt1'}, 'y': 1},\n",
       "          'process_id': 'multiply',\n",
       "          'result': True},\n",
       "         'subtract1': {'arguments': {'x': {'from_node': 'arrayelement1'},\n",
       "           'y': {'from_node': 'arrayelement2'}},\n",
       "          'process_id': 'subtract'}}}},\n",
       "      'process_id': 'reduce_dimension'},\n",
       "     'reducedimension2': {'arguments': {'data': {'from_node': 'loadcollection1'},\n",
       "       'dimension': 'bands',\n",
       "       'reducer': {'process_graph': {'arrayelement3': {'arguments': {'data': {'from_parameter': 'data'},\n",
       "           'index': 2},\n",
       "          'process_id': 'array_element'},\n",
       "         'eq1': {'arguments': {'x': {'from_node': 'arrayelement3'}, 'y': 8},\n",
       "          'process_id': 'eq'},\n",
       "         'eq2': {'arguments': {'x': {'from_node': 'arrayelement3'}, 'y': 9},\n",
       "          'process_id': 'eq'},\n",
       "         'eq3': {'arguments': {'x': {'from_node': 'arrayelement3'}, 'y': 3},\n",
       "          'process_id': 'eq'},\n",
       "         'multiply2': {'arguments': {'x': {'from_node': 'or2'}, 'y': 1},\n",
       "          'process_id': 'multiply',\n",
       "          'result': True},\n",
       "         'or1': {'arguments': {'x': {'from_node': 'eq1'},\n",
       "           'y': {'from_node': 'eq2'}},\n",
       "          'process_id': 'or'},\n",
       "         'or2': {'arguments': {'x': {'from_node': 'or1'},\n",
       "           'y': {'from_node': 'eq3'}},\n",
       "          'process_id': 'or'}}}},\n",
       "      'process_id': 'reduce_dimension'},\n",
       "     'reducedimension3': {'arguments': {'data': {'from_node': 'mask1'},\n",
       "       'dimension': 't',\n",
       "       'reducer': {'process_graph': {'median1': {'arguments': {'data': {'from_parameter': 'data'}},\n",
       "          'process_id': 'median',\n",
       "          'result': True}}}},\n",
       "      'process_id': 'reduce_dimension'},\n",
       "     'saveresult1': {'arguments': {'data': {'from_node': 'reducedimension3'},\n",
       "       'format': 'GTiff',\n",
       "       'options': {}},\n",
       "      'process_id': 'save_result',\n",
       "      'result': True}},\n",
       "    'format': 'openeo'},\n",
       "   'processing:facility': 'openEO Geotrellis backend',\n",
       "   'processing:software': {'Geotrellis backend': '0.66.0a5'},\n",
       "   'roles': ['processor']}],\n",
       " 'stac_extensions': ['https://stac-extensions.github.io/eo/v1.1.0/schema.json',\n",
       "  'https://stac-extensions.github.io/file/v2.1.0/schema.json',\n",
       "  'https://stac-extensions.github.io/processing/v1.1.0/schema.json',\n",
       "  'https://stac-extensions.github.io/projection/v1.1.0/schema.json'],\n",
       " 'stac_version': '1.0.0',\n",
       " 'summaries': {},\n",
       " 'title': 'snowmap_cog',\n",
       " 'type': 'Collection'}"
      ]
     },
     "execution_count": 21,
     "metadata": {},
     "output_type": "execute_result"
    }
   ],
   "source": [
    "stac_collection = results.get_metadata()\n",
    "stac_collection"
   ]
  },
  {
   "cell_type": "markdown",
   "id": "284412ab-7feb-45b3-8964-16416debcb4e",
   "metadata": {},
   "source": [
    "### Adding Author of the data\n",
    "\n",
    "Add your information to become visible as author of the data -  description of each field can be found here: https://github.com/radiantearth/stac-spec/blob/master/item-spec/common-metadata.md#provider-object\n",
    "\n",
    "Please note that leaving the field empty will lead to failed validation of STAC item"
   ]
  },
  {
   "cell_type": "markdown",
   "id": "4c19d94d-0beb-4ba9-b98b-a91939c22ee0",
   "metadata": {},
   "source": [
    "**Attention:** Enter your full name and a short description of the snowmap you generated e.g. `name = \"Jane Doe\"` and `description = \"snow map of Merano\"`"
   ]
  },
  {
   "cell_type": "code",
   "execution_count": 33,
   "id": "18559584-a4a0-41f5-846b-9decf42d6456",
   "metadata": {
    "tags": []
   },
   "outputs": [],
   "source": [
    "name = \"Duplex YOUNKAP NINA\"\n",
    "description = \"Snow map of Monte Bondone\""
   ]
  },
  {
   "cell_type": "code",
   "execution_count": 34,
   "id": "058f0dcd-74e0-4a38-88be-8e77ea1d0f2b",
   "metadata": {
    "tags": []
   },
   "outputs": [],
   "source": [
    "author = [{\n",
    "    \"name\": name,\n",
    "    \"description\": description,\n",
    "    \"roles\": [\"Product Manager\"],\n",
    "}]\n",
    "\n",
    "providers = stac_collection[\"providers\"] + author\n",
    "\n",
    "author_id = [nam[:2] for nam in author[0][\"name\"].split(\" \")]\n",
    "\n",
    "# generate timestamp\n",
    "ts = datetime.now().isoformat()\n",
    "ts = ts.split(\"T\")[0]"
   ]
  },
  {
   "cell_type": "markdown",
   "id": "8a23469d-76aa-493f-abf5-d752ebcf8bfe",
   "metadata": {},
   "source": [
    "Extract bbox information and temporal extent from the STAC collection that was delivered with the result from OpenEO. We are reusing it to create our STAC item. We have prepared these function for you `extract_metadata_geometry` and `extract_metadata_time`"
   ]
  },
  {
   "cell_type": "code",
   "execution_count": 35,
   "id": "d82b0467-fd21-44f7-b0db-64cca0606ef7",
   "metadata": {
    "tags": []
   },
   "outputs": [],
   "source": [
    "geometry = extract_metadata_geometry(stac_collection)[1]"
   ]
  },
  {
   "cell_type": "code",
   "execution_count": 36,
   "id": "30787523-02a1-4f2b-a903-3a8faddfe2a1",
   "metadata": {
    "tags": []
   },
   "outputs": [],
   "source": [
    "start_time, end_time = extract_metadata_time(stac_collection)"
   ]
  },
  {
   "cell_type": "markdown",
   "id": "c9cf787e-75f2-461f-85de-a378c4234105",
   "metadata": {},
   "source": [
    "Since we calculated the statistics and renamed the file, we have to add this new file name to the STAC item."
   ]
  },
  {
   "cell_type": "code",
   "execution_count": 37,
   "id": "dcecb79c-8d2a-40ef-b2c5-4a350de9a8e9",
   "metadata": {
    "tags": []
   },
   "outputs": [],
   "source": [
    "filename = \"openEO_uint8.tif\""
   ]
  },
  {
   "cell_type": "markdown",
   "id": "11d8875f-cf18-4749-ac6b-65dcf41cff2b",
   "metadata": {},
   "source": [
    "Let's create the actual STAC item describing your data! As talked about in previous lessons, STAC item has various required fields which need to be present and filled correctly. For the field ID we assign the fixed name snowcover and the initials of your name. That will be visible on the STAC browser once you have submitted the result!"
   ]
  },
  {
   "cell_type": "code",
   "execution_count": 38,
   "id": "16ae70a4-866c-4b61-8e5b-38e381722643",
   "metadata": {
    "tags": []
   },
   "outputs": [],
   "source": [
    "stac_item = {\n",
    "    \"type\": \"Feature\", \n",
    "    \"stac_version\": stac_collection[\"stac_version\"],\n",
    "    \"stac_extensions\": [],\n",
    "    \"id\": \"snowcover_\" + \"\".join(author_id).lower()+ \"_openeo_\" + str(ts),\n",
    "    \"geometry\": geometry,\n",
    "    \"bbox\": bbox,\n",
    "    \"properties\": {\n",
    "       \"datetime\": None, \n",
    "        \"start_datetime\": start_time,\n",
    "        \"end_datetime\": end_time,\n",
    "        \"providers\" : providers\n",
    "                 },\n",
    "    \n",
    "    \"links\": stac_collection[\"links\"],\n",
    "    \"assets\": {\"visual\": {\n",
    "      \"href\": filename,\n",
    "      \"type\": \"image/tiff; application=geotiff; profile=cloud-optimized\",\n",
    "      \"title\": \"Snow coverage\",\n",
    "      \"roles\": [\n",
    "        \"data\"\n",
    "              ]\n",
    "            }\n",
    "        },\n",
    "}"
   ]
  },
  {
   "cell_type": "code",
   "execution_count": 39,
   "id": "8c00cfa0-571e-4518-8906-7983170246e8",
   "metadata": {
    "scrolled": true,
    "tags": []
   },
   "outputs": [
    {
     "data": {
      "text/plain": [
       "{'type': 'Feature',\n",
       " 'stac_version': '1.0.0',\n",
       " 'stac_extensions': [],\n",
       " 'id': 'snowcover_duyoni_openeo_2025-06-28',\n",
       " 'geometry': {'type': 'Polygon',\n",
       "  'coordinates': [[[10.866784783940814, 47.18518829848707],\n",
       "    [10.884771216059187, 47.18518829848707],\n",
       "    [10.884771216059187, 47.203503701512936],\n",
       "    [10.866784783940814, 47.203503701512936],\n",
       "    [10.866784783940814, 47.18518829848707]]]},\n",
       " 'bbox': (10.866784783940814,\n",
       "  47.18518829848707,\n",
       "  10.884771216059187,\n",
       "  47.203503701512936),\n",
       " 'properties': {'datetime': None,\n",
       "  'start_datetime': '2024-12-20T00:00:00Z',\n",
       "  'end_datetime': '2025-03-20T00:00:00Z',\n",
       "  'providers': [{'description': 'This data was processed on an openEO backend maintained by VITO.',\n",
       "    'name': 'VITO',\n",
       "    'processing:expression': {'expression': {'loadcollection1': {'arguments': {'bands': ['B03',\n",
       "         'B11',\n",
       "         'SCL'],\n",
       "        'id': 'SENTINEL2_L2A',\n",
       "        'spatial_extent': {'crs': 4326,\n",
       "         'east': 10.884771216059187,\n",
       "         'north': 47.203503701512936,\n",
       "         'south': 47.18518829848707,\n",
       "         'west': 10.866784783940814},\n",
       "        'temporal_extent': ['2024-12-20', '2025-03-20']},\n",
       "       'process_id': 'load_collection'},\n",
       "      'mask1': {'arguments': {'data': {'from_node': 'reducedimension1'},\n",
       "        'mask': {'from_node': 'reducedimension2'},\n",
       "        'replacement': 2},\n",
       "       'process_id': 'mask'},\n",
       "      'reducedimension1': {'arguments': {'data': {'from_node': 'loadcollection1'},\n",
       "        'dimension': 'bands',\n",
       "        'reducer': {'process_graph': {'add1': {'arguments': {'x': {'from_node': 'arrayelement1'},\n",
       "            'y': {'from_node': 'arrayelement2'}},\n",
       "           'process_id': 'add'},\n",
       "          'arrayelement1': {'arguments': {'data': {'from_parameter': 'data'},\n",
       "            'index': 0},\n",
       "           'process_id': 'array_element'},\n",
       "          'arrayelement2': {'arguments': {'data': {'from_parameter': 'data'},\n",
       "            'index': 1},\n",
       "           'process_id': 'array_element'},\n",
       "          'divide1': {'arguments': {'x': {'from_node': 'subtract1'},\n",
       "            'y': {'from_node': 'add1'}},\n",
       "           'process_id': 'divide'},\n",
       "          'gt1': {'arguments': {'x': {'from_node': 'divide1'}, 'y': 0.4},\n",
       "           'process_id': 'gt'},\n",
       "          'multiply1': {'arguments': {'x': {'from_node': 'gt1'}, 'y': 1},\n",
       "           'process_id': 'multiply',\n",
       "           'result': True},\n",
       "          'subtract1': {'arguments': {'x': {'from_node': 'arrayelement1'},\n",
       "            'y': {'from_node': 'arrayelement2'}},\n",
       "           'process_id': 'subtract'}}}},\n",
       "       'process_id': 'reduce_dimension'},\n",
       "      'reducedimension2': {'arguments': {'data': {'from_node': 'loadcollection1'},\n",
       "        'dimension': 'bands',\n",
       "        'reducer': {'process_graph': {'arrayelement3': {'arguments': {'data': {'from_parameter': 'data'},\n",
       "            'index': 2},\n",
       "           'process_id': 'array_element'},\n",
       "          'eq1': {'arguments': {'x': {'from_node': 'arrayelement3'}, 'y': 8},\n",
       "           'process_id': 'eq'},\n",
       "          'eq2': {'arguments': {'x': {'from_node': 'arrayelement3'}, 'y': 9},\n",
       "           'process_id': 'eq'},\n",
       "          'eq3': {'arguments': {'x': {'from_node': 'arrayelement3'}, 'y': 3},\n",
       "           'process_id': 'eq'},\n",
       "          'multiply2': {'arguments': {'x': {'from_node': 'or2'}, 'y': 1},\n",
       "           'process_id': 'multiply',\n",
       "           'result': True},\n",
       "          'or1': {'arguments': {'x': {'from_node': 'eq1'},\n",
       "            'y': {'from_node': 'eq2'}},\n",
       "           'process_id': 'or'},\n",
       "          'or2': {'arguments': {'x': {'from_node': 'or1'},\n",
       "            'y': {'from_node': 'eq3'}},\n",
       "           'process_id': 'or'}}}},\n",
       "       'process_id': 'reduce_dimension'},\n",
       "      'reducedimension3': {'arguments': {'data': {'from_node': 'mask1'},\n",
       "        'dimension': 't',\n",
       "        'reducer': {'process_graph': {'median1': {'arguments': {'data': {'from_parameter': 'data'}},\n",
       "           'process_id': 'median',\n",
       "           'result': True}}}},\n",
       "       'process_id': 'reduce_dimension'},\n",
       "      'saveresult1': {'arguments': {'data': {'from_node': 'reducedimension3'},\n",
       "        'format': 'GTiff',\n",
       "        'options': {}},\n",
       "       'process_id': 'save_result',\n",
       "       'result': True}},\n",
       "     'format': 'openeo'},\n",
       "    'processing:facility': 'openEO Geotrellis backend',\n",
       "    'processing:software': {'Geotrellis backend': '0.66.0a5'},\n",
       "    'roles': ['processor']},\n",
       "   {'name': 'Duplex YOUNKAP NINA',\n",
       "    'description': 'Snow map of Monte Bondone',\n",
       "    'roles': ['Product Manager']}]},\n",
       " 'links': [{'href': '/eodata/Sentinel-2/MSI/L2A/2025/01/15/S2A_MSIL2A_20250115T102351_N0511_R065_T32TPT_20250115T142751.SAFE',\n",
       "   'rel': 'derived_from',\n",
       "   'title': 'Derived from /eodata/Sentinel-2/MSI/L2A/2025/01/15/S2A_MSIL2A_20250115T102351_N0511_R065_T32TPT_20250115T142751.SAFE',\n",
       "   'type': 'application/json'},\n",
       "  {'href': '/eodata/Sentinel-2/MSI/L2A/2024/12/26/S2A_MSIL2A_20241226T102441_N0511_R065_T32TPT_20241226T120746.SAFE',\n",
       "   'rel': 'derived_from',\n",
       "   'title': 'Derived from /eodata/Sentinel-2/MSI/L2A/2024/12/26/S2A_MSIL2A_20241226T102441_N0511_R065_T32TPT_20241226T120746.SAFE',\n",
       "   'type': 'application/json'},\n",
       "  {'href': '/eodata/Sentinel-2/MSI/L2A/2025/02/01/S2C_MSIL2A_20250201T101301_N0511_R022_T32TPT_20250201T144110.SAFE',\n",
       "   'rel': 'derived_from',\n",
       "   'title': 'Derived from /eodata/Sentinel-2/MSI/L2A/2025/02/01/S2C_MSIL2A_20250201T101301_N0511_R022_T32TPT_20250201T144110.SAFE',\n",
       "   'type': 'application/json'},\n",
       "  {'href': '/eodata/Sentinel-2/MSI/L2A/2025/02/16/S2B_MSIL2A_20250216T101029_N0511_R022_T32TPT_20250216T124822.SAFE',\n",
       "   'rel': 'derived_from',\n",
       "   'title': 'Derived from /eodata/Sentinel-2/MSI/L2A/2025/02/16/S2B_MSIL2A_20250216T101029_N0511_R022_T32TPT_20250216T124822.SAFE',\n",
       "   'type': 'application/json'},\n",
       "  {'href': '/eodata/Sentinel-2/MSI/L2A/2025/01/25/S2C_MSIL2A_20250125T102341_N0511_R065_T32TPT_20250125T134454.SAFE',\n",
       "   'rel': 'derived_from',\n",
       "   'title': 'Derived from /eodata/Sentinel-2/MSI/L2A/2025/01/25/S2C_MSIL2A_20250125T102341_N0511_R065_T32TPT_20250125T134454.SAFE',\n",
       "   'type': 'application/json'},\n",
       "  {'href': '/eodata/Sentinel-2/MSI/L2A/2025/03/03/S2C_MSIL2A_20250303T100951_N0511_R022_T32TPT_20250303T155811.SAFE',\n",
       "   'rel': 'derived_from',\n",
       "   'title': 'Derived from /eodata/Sentinel-2/MSI/L2A/2025/03/03/S2C_MSIL2A_20250303T100951_N0511_R022_T32TPT_20250303T155811.SAFE',\n",
       "   'type': 'application/json'},\n",
       "  {'href': '/eodata/Sentinel-2/MSI/L2A/2025/03/16/S2C_MSIL2A_20250316T101821_N0511_R065_T32TPT_20250316T161715.SAFE',\n",
       "   'rel': 'derived_from',\n",
       "   'title': 'Derived from /eodata/Sentinel-2/MSI/L2A/2025/03/16/S2C_MSIL2A_20250316T101821_N0511_R065_T32TPT_20250316T161715.SAFE',\n",
       "   'type': 'application/json'},\n",
       "  {'href': '/eodata/Sentinel-2/MSI/L2A/2025/01/05/S2A_MSIL2A_20250105T102421_N0511_R065_T32TPT_20250105T143159.SAFE',\n",
       "   'rel': 'derived_from',\n",
       "   'title': 'Derived from /eodata/Sentinel-2/MSI/L2A/2025/01/05/S2A_MSIL2A_20250105T102421_N0511_R065_T32TPT_20250105T143159.SAFE',\n",
       "   'type': 'application/json'},\n",
       "  {'href': '/eodata/Sentinel-2/MSI/L2A/2025/03/13/S2C_MSIL2A_20250313T100831_N0511_R022_T32TPT_20250313T155418.SAFE',\n",
       "   'rel': 'derived_from',\n",
       "   'title': 'Derived from /eodata/Sentinel-2/MSI/L2A/2025/03/13/S2C_MSIL2A_20250313T100831_N0511_R022_T32TPT_20250313T155418.SAFE',\n",
       "   'type': 'application/json'},\n",
       "  {'href': '/eodata/Sentinel-2/MSI/L2A/2025/01/22/S2C_MSIL2A_20250122T101351_N0511_R022_T32TPT_20250122T132209.SAFE',\n",
       "   'rel': 'derived_from',\n",
       "   'title': 'Derived from /eodata/Sentinel-2/MSI/L2A/2025/01/22/S2C_MSIL2A_20250122T101351_N0511_R022_T32TPT_20250122T132209.SAFE',\n",
       "   'type': 'application/json'},\n",
       "  {'href': '/eodata/Sentinel-2/MSI/L2A/2025/01/30/S2B_MSIL2A_20250130T102159_N0511_R065_T32TPT_20250130T141238.SAFE',\n",
       "   'rel': 'derived_from',\n",
       "   'title': 'Derived from /eodata/Sentinel-2/MSI/L2A/2025/01/30/S2B_MSIL2A_20250130T102159_N0511_R065_T32TPT_20250130T141238.SAFE',\n",
       "   'type': 'application/json'},\n",
       "  {'href': '/eodata/Sentinel-2/MSI/L2A/2025/02/19/S2B_MSIL2A_20250219T101959_N0511_R065_T32TPT_20250219T142054.SAFE',\n",
       "   'rel': 'derived_from',\n",
       "   'title': 'Derived from /eodata/Sentinel-2/MSI/L2A/2025/02/19/S2B_MSIL2A_20250219T101959_N0511_R065_T32TPT_20250219T142054.SAFE',\n",
       "   'type': 'application/json'},\n",
       "  {'href': '/eodata/Sentinel-2/MSI/L2A/2025/01/27/S2B_MSIL2A_20250127T101209_N0511_R022_T32TPT_20250127T130241.SAFE',\n",
       "   'rel': 'derived_from',\n",
       "   'title': 'Derived from /eodata/Sentinel-2/MSI/L2A/2025/01/27/S2B_MSIL2A_20250127T101209_N0511_R022_T32TPT_20250127T130241.SAFE',\n",
       "   'type': 'application/json'},\n",
       "  {'href': '/eodata/Sentinel-2/MSI/L2A/2024/12/31/S2B_MSIL2A_20241231T102339_N0511_R065_T32TPT_20241231T130720.SAFE',\n",
       "   'rel': 'derived_from',\n",
       "   'title': 'Derived from /eodata/Sentinel-2/MSI/L2A/2024/12/31/S2B_MSIL2A_20241231T102339_N0511_R065_T32TPT_20241231T130720.SAFE',\n",
       "   'type': 'application/json'},\n",
       "  {'href': '/eodata/Sentinel-2/MSI/L2A/2025/02/09/S2B_MSIL2A_20250209T102059_N0511_R065_T32TPT_20250209T142037.SAFE',\n",
       "   'rel': 'derived_from',\n",
       "   'title': 'Derived from /eodata/Sentinel-2/MSI/L2A/2025/02/09/S2B_MSIL2A_20250209T102059_N0511_R065_T32TPT_20250209T142037.SAFE',\n",
       "   'type': 'application/json'},\n",
       "  {'href': '/eodata/Sentinel-2/MSI/L2A/2025/01/20/S2B_MSIL2A_20250120T102239_N0511_R065_T32TPT_20250120T130540.SAFE',\n",
       "   'rel': 'derived_from',\n",
       "   'title': 'Derived from /eodata/Sentinel-2/MSI/L2A/2025/01/20/S2B_MSIL2A_20250120T102239_N0511_R065_T32TPT_20250120T130540.SAFE',\n",
       "   'type': 'application/json'},\n",
       "  {'href': '/eodata/Sentinel-2/MSI/L2A/2025/02/24/S2C_MSIL2A_20250224T102051_N0511_R065_T32TPT_20250224T155012.SAFE',\n",
       "   'rel': 'derived_from',\n",
       "   'title': 'Derived from /eodata/Sentinel-2/MSI/L2A/2025/02/24/S2C_MSIL2A_20250224T102051_N0511_R065_T32TPT_20250224T155012.SAFE',\n",
       "   'type': 'application/json'},\n",
       "  {'href': '/eodata/Sentinel-2/MSI/L2A/2025/01/07/S2B_MSIL2A_20250107T101319_N0511_R022_T32TPT_20250107T130354.SAFE',\n",
       "   'rel': 'derived_from',\n",
       "   'title': 'Derived from /eodata/Sentinel-2/MSI/L2A/2025/01/07/S2B_MSIL2A_20250107T101319_N0511_R022_T32TPT_20250107T130354.SAFE',\n",
       "   'type': 'application/json'},\n",
       "  {'href': '/eodata/Sentinel-2/MSI/L2A/2025/02/04/S2C_MSIL2A_20250204T102251_N0511_R065_T32TPT_20250204T144157.SAFE',\n",
       "   'rel': 'derived_from',\n",
       "   'title': 'Derived from /eodata/Sentinel-2/MSI/L2A/2025/02/04/S2C_MSIL2A_20250204T102251_N0511_R065_T32TPT_20250204T144157.SAFE',\n",
       "   'type': 'application/json'},\n",
       "  {'href': '/eodata/Sentinel-2/MSI/L2A/2025/03/11/S2B_MSIL2A_20250311T101739_N0511_R065_T32TPT_20250311T142040.SAFE',\n",
       "   'rel': 'derived_from',\n",
       "   'title': 'Derived from /eodata/Sentinel-2/MSI/L2A/2025/03/11/S2B_MSIL2A_20250311T101739_N0511_R065_T32TPT_20250311T142040.SAFE',\n",
       "   'type': 'application/json'},\n",
       "  {'href': '/eodata/Sentinel-2/MSI/L2A/2025/01/02/S2A_MSIL2A_20250102T101421_N0511_R022_T32TPT_20250102T120757.SAFE',\n",
       "   'rel': 'derived_from',\n",
       "   'title': 'Derived from /eodata/Sentinel-2/MSI/L2A/2025/01/02/S2A_MSIL2A_20250102T101421_N0511_R022_T32TPT_20250102T120757.SAFE',\n",
       "   'type': 'application/json'},\n",
       "  {'href': '/eodata/Sentinel-2/MSI/L2A/2025/01/17/S2B_MSIL2A_20250117T101249_N0511_R022_T32TPT_20250117T154407.SAFE',\n",
       "   'rel': 'derived_from',\n",
       "   'title': 'Derived from /eodata/Sentinel-2/MSI/L2A/2025/01/17/S2B_MSIL2A_20250117T101249_N0511_R022_T32TPT_20250117T154407.SAFE',\n",
       "   'type': 'application/json'},\n",
       "  {'href': '/eodata/Sentinel-2/MSI/L2A/2025/02/26/S2B_MSIL2A_20250226T100909_N0511_R022_T32TPT_20250226T123142.SAFE',\n",
       "   'rel': 'derived_from',\n",
       "   'title': 'Derived from /eodata/Sentinel-2/MSI/L2A/2025/02/26/S2B_MSIL2A_20250226T100909_N0511_R022_T32TPT_20250226T123142.SAFE',\n",
       "   'type': 'application/json'},\n",
       "  {'href': '/eodata/Sentinel-2/MSI/L2A/2025/03/18/S2A_MSIL2A_20250318T101751_N0511_R065_T32TPT_20250318T160400.SAFE',\n",
       "   'rel': 'derived_from',\n",
       "   'title': 'Derived from /eodata/Sentinel-2/MSI/L2A/2025/03/18/S2A_MSIL2A_20250318T101751_N0511_R065_T32TPT_20250318T160400.SAFE',\n",
       "   'type': 'application/json'},\n",
       "  {'href': '/eodata/Sentinel-2/MSI/L2A/2025/01/10/S2B_MSIL2A_20250110T102319_N0511_R065_T32TPT_20250110T130712.SAFE',\n",
       "   'rel': 'derived_from',\n",
       "   'title': 'Derived from /eodata/Sentinel-2/MSI/L2A/2025/01/10/S2B_MSIL2A_20250110T102319_N0511_R065_T32TPT_20250110T130712.SAFE',\n",
       "   'type': 'application/json'},\n",
       "  {'href': '/eodata/Sentinel-2/MSI/L2A/2025/02/21/S2C_MSIL2A_20250221T101051_N0511_R022_T32TPT_20250221T174112.SAFE',\n",
       "   'rel': 'derived_from',\n",
       "   'title': 'Derived from /eodata/Sentinel-2/MSI/L2A/2025/02/21/S2C_MSIL2A_20250221T101051_N0511_R022_T32TPT_20250221T174112.SAFE',\n",
       "   'type': 'application/json'},\n",
       "  {'href': '/eodata/Sentinel-2/MSI/L2A/2025/03/01/S2B_MSIL2A_20250301T101849_N0511_R065_T32TPT_20250301T131130.SAFE',\n",
       "   'rel': 'derived_from',\n",
       "   'title': 'Derived from /eodata/Sentinel-2/MSI/L2A/2025/03/01/S2B_MSIL2A_20250301T101849_N0511_R065_T32TPT_20250301T131130.SAFE',\n",
       "   'type': 'application/json'},\n",
       "  {'href': '/eodata/Sentinel-2/MSI/L2A/2024/12/23/S2A_MSIL2A_20241223T101431_N0511_R022_T32TPT_20241223T121855.SAFE',\n",
       "   'rel': 'derived_from',\n",
       "   'title': 'Derived from /eodata/Sentinel-2/MSI/L2A/2024/12/23/S2A_MSIL2A_20241223T101431_N0511_R022_T32TPT_20241223T121855.SAFE',\n",
       "   'type': 'application/json'},\n",
       "  {'href': '/eodata/Sentinel-2/MSI/L2A/2025/02/14/S2C_MSIL2A_20250214T102151_N0511_R065_T32TPT_20250214T142511.SAFE',\n",
       "   'rel': 'derived_from',\n",
       "   'title': 'Derived from /eodata/Sentinel-2/MSI/L2A/2025/02/14/S2C_MSIL2A_20250214T102151_N0511_R065_T32TPT_20250214T142511.SAFE',\n",
       "   'type': 'application/json'},\n",
       "  {'href': '/eodata/Sentinel-2/MSI/L2A/2025/03/15/S2A_MSIL2A_20250315T101041_N0511_R022_T32TPT_20250315T153121.SAFE',\n",
       "   'rel': 'derived_from',\n",
       "   'title': 'Derived from /eodata/Sentinel-2/MSI/L2A/2025/03/15/S2A_MSIL2A_20250315T101041_N0511_R022_T32TPT_20250315T153121.SAFE',\n",
       "   'type': 'application/json'},\n",
       "  {'href': '/eodata/Sentinel-2/MSI/L2A/2025/02/06/S2B_MSIL2A_20250206T101109_N0511_R022_T32TPT_20250206T122414.SAFE',\n",
       "   'rel': 'derived_from',\n",
       "   'title': 'Derived from /eodata/Sentinel-2/MSI/L2A/2025/02/06/S2B_MSIL2A_20250206T101109_N0511_R022_T32TPT_20250206T122414.SAFE',\n",
       "   'type': 'application/json'},\n",
       "  {'href': '/eodata/Sentinel-2/MSI/L2A/2024/12/21/S2B_MSIL2A_20241221T102339_N0511_R065_T32TPT_20241221T142404.SAFE',\n",
       "   'rel': 'derived_from',\n",
       "   'title': 'Derived from /eodata/Sentinel-2/MSI/L2A/2024/12/21/S2B_MSIL2A_20241221T102339_N0511_R065_T32TPT_20241221T142404.SAFE',\n",
       "   'type': 'application/json'},\n",
       "  {'href': '/eodata/Sentinel-2/MSI/L2A/2025/03/06/S2C_MSIL2A_20250306T101931_N0511_R065_T32TPT_20250306T152957.SAFE',\n",
       "   'rel': 'derived_from',\n",
       "   'title': 'Derived from /eodata/Sentinel-2/MSI/L2A/2025/03/06/S2C_MSIL2A_20250306T101931_N0511_R065_T32TPT_20250306T152957.SAFE',\n",
       "   'type': 'application/json'},\n",
       "  {'href': '/eodata/Sentinel-2/MSI/L2A/2025/03/08/S2B_MSIL2A_20250308T100749_N0511_R022_T32TPT_20250308T122841.SAFE',\n",
       "   'rel': 'derived_from',\n",
       "   'title': 'Derived from /eodata/Sentinel-2/MSI/L2A/2025/03/08/S2B_MSIL2A_20250308T100749_N0511_R022_T32TPT_20250308T122841.SAFE',\n",
       "   'type': 'application/json'},\n",
       "  {'href': '/eodata/Sentinel-2/MSI/L2A/2025/02/11/S2C_MSIL2A_20250211T101201_N0511_R022_T32TPT_20250211T142256.SAFE',\n",
       "   'rel': 'derived_from',\n",
       "   'title': 'Derived from /eodata/Sentinel-2/MSI/L2A/2025/02/11/S2C_MSIL2A_20250211T101201_N0511_R022_T32TPT_20250211T142256.SAFE',\n",
       "   'type': 'application/json'},\n",
       "  {'href': '/eodata/Sentinel-2/MSI/L2A/2025/01/12/S2A_MSIL2A_20250112T101401_N0511_R022_T32TPT_20250112T122449.SAFE',\n",
       "   'rel': 'derived_from',\n",
       "   'title': 'Derived from /eodata/Sentinel-2/MSI/L2A/2025/01/12/S2A_MSIL2A_20250112T101401_N0511_R022_T32TPT_20250112T122449.SAFE',\n",
       "   'type': 'application/json'},\n",
       "  {'href': '/eodata/Sentinel-2/MSI/L2A/2024/12/28/S2B_MSIL2A_20241228T101339_N0511_R022_T32TPT_20241228T123245.SAFE',\n",
       "   'rel': 'derived_from',\n",
       "   'title': 'Derived from /eodata/Sentinel-2/MSI/L2A/2024/12/28/S2B_MSIL2A_20241228T101339_N0511_R022_T32TPT_20241228T123245.SAFE',\n",
       "   'type': 'application/json'},\n",
       "  {'href': 'https://openeo.dataspace.copernicus.eu/openeo/1.2/jobs/j-2506280606464883921bdf7c12ed3b5b/results',\n",
       "   'rel': 'self',\n",
       "   'type': 'application/json'},\n",
       "  {'href': 'https://openeo.dataspace.copernicus.eu/openeo/1.2/jobs/j-2506280606464883921bdf7c12ed3b5b/results/ODZiODRiMjMtNWM4Yi00ZGIwLWFiMDMtZDA1MTM3ODgxZmFj/dabd1ab5d918f9e1dabdacb034a7e3ee?expires=1751695755',\n",
       "   'rel': 'canonical',\n",
       "   'type': 'application/json'},\n",
       "  {'href': 'http://ceos.org/ard/files/PFS/SR/v5.0/CARD4L_Product_Family_Specification_Surface_Reflectance-v5.0.pdf',\n",
       "   'rel': 'card4l-document',\n",
       "   'type': 'application/pdf'},\n",
       "  {'href': 'https://openeo.dataspace.copernicus.eu/openeo/1.2/jobs/j-2506280606464883921bdf7c12ed3b5b/results/items/ODZiODRiMjMtNWM4Yi00ZGIwLWFiMDMtZDA1MTM3ODgxZmFj/7eb0c83657e0a96ee943301e47fa01d7/openEO.tif?expires=1751695755',\n",
       "   'rel': 'item',\n",
       "   'type': 'application/geo+json'}],\n",
       " 'assets': {'visual': {'href': 'openEO_uint8.tif',\n",
       "   'type': 'image/tiff; application=geotiff; profile=cloud-optimized',\n",
       "   'title': 'Snow coverage',\n",
       "   'roles': ['data']}}}"
      ]
     },
     "execution_count": 39,
     "metadata": {},
     "output_type": "execute_result"
    }
   ],
   "source": [
    "stac_item"
   ]
  },
  {
   "cell_type": "markdown",
   "id": "f8c55b3d-1d3f-4584-9c1c-e00511288e77",
   "metadata": {},
   "source": [
    "Saving the resulting item as stac_item.json into results folder"
   ]
  },
  {
   "cell_type": "code",
   "execution_count": 40,
   "id": "cc6b58e1-e759-4943-85b8-bad6716181ab",
   "metadata": {
    "tags": []
   },
   "outputs": [],
   "source": [
    "stac_json = json.dumps(stac_item)\n",
    "with open(\"33_results/stac_item.json\", \"w\") as file:\n",
    "    file.write(stac_json)"
   ]
  },
  {
   "cell_type": "markdown",
   "id": "5a5064ba-5d1a-4f49-8502-c715a6032856",
   "metadata": {},
   "source": [
    "Validating that STAC item is important - non valid STAC will not be displayed in the STAC browser after upload"
   ]
  },
  {
   "cell_type": "code",
   "execution_count": 41,
   "id": "f1495fcc-19fe-46df-bf95-ac4c470696d5",
   "metadata": {
    "tags": []
   },
   "outputs": [
    {
     "name": "stdout",
     "output_type": "stream",
     "text": [
      "[{'version': '1.0.0', 'path': None, 'schema': ['https://schemas.stacspec.org/v1.0.0/item-spec/json-schema/item.json'], 'valid_stac': False, 'error_type': 'JSONSchemaValidationError', 'error_message': \"'Product Manager' is not one of ['producer', 'licensor', 'processor', 'host']. Error is in properties -> providers -> 1 -> roles -> 0 \"}]\n"
     ]
    }
   ],
   "source": [
    "from stac_validator import stac_validator\n",
    "import requests\n",
    "stac = stac_validator.StacValidate()\n",
    "f = open('33_results/stac_item.json')\n",
    "data = json.load(f)\n",
    "stac.validate_dict(data)\n",
    "print(stac.message)"
   ]
  },
  {
   "cell_type": "markdown",
   "id": "75e00b43-d734-4496-ae3f-483d6ae12263",
   "metadata": {},
   "source": [
    "### Now it is time to upload solution to the submission folder and make results visible in STAC browser"
   ]
  },
  {
   "cell_type": "markdown",
   "id": "bca36260-960e-4a69-bef8-9fb6fc880360",
   "metadata": {},
   "source": [
    "Upload both the STAC json file and the final .tif file to \"submissions\" folder in your home directory\n",
    "\n",
    "You can use the code below to copy the results to the submissions folder"
   ]
  },
  {
   "cell_type": "code",
   "execution_count": 42,
   "id": "eb8c033c-9c51-4a0e-8fa9-79d38871721b",
   "metadata": {
    "tags": []
   },
   "outputs": [],
   "source": [
    "!cp ./33_results/stac_item.json ~/submissions/\n",
    "!cp ./33_results/openEO_uint8.tif ~/submissions/"
   ]
  },
  {
   "cell_type": "markdown",
   "id": "900bdab1-26b5-41d3-bfb0-5c7091e2c4c3",
   "metadata": {},
   "source": [
    "And now by executing the cell below, update of the STAC browser will start. By this, you are uploading your results to the openly available STAC browser. This might take some minutes."
   ]
  },
  {
   "cell_type": "code",
   "execution_count": 43,
   "id": "c8a56d8e-3b80-40f3-bcba-b2cfac968bdd",
   "metadata": {
    "tags": []
   },
   "outputs": [],
   "source": [
    "env_var1 = os.getenv('EMAIL')\n",
    "curl_command = f\"curl -X POST -F token=glptt-42d31ac6f592a9e321d0e4877e654dc50dcf4854 -F ref=main -F 'variables[USER_DIRECTORY]=\\\"{env_var1}\\\"' https://gitlab.eox.at/api/v4/projects/554/trigger/pipeline\" \n",
    "process = subprocess.Popen(curl_command, shell=True, stdout=subprocess.PIPE, stderr=subprocess.PIPE)\n",
    "stdout, stderr = process.communicate()"
   ]
  },
  {
   "cell_type": "markdown",
   "id": "427c1b95-039c-41b3-93c7-3fd6471fd1c4",
   "metadata": {},
   "source": [
    "### Your results are online!\n",
    "You can now browse your results together with all the other submissions at the publicly available STAC Catalog! You can check your snow cover map, that you are correctly listed as the author and that your contribution has the correct name. The license on the STAC Collection \"Cubes and Clouds: Snow Cover\" is CC-BY-4.0. The STAC Collection also has it's own DOI.\n",
    "\n",
    "Congratulations you have just contributed to a community mapping project that is completely open source, open data and FAIR! Make sure to show it also to your friends, colleagues or potential employers :)\n",
    "\n",
    "https://esa.pages.eox.at/cubes-and-clouds-catalog/browser/#/?.language=en"
   ]
  },
  {
   "cell_type": "markdown",
   "id": "d25e8ab2-097d-4ad2-a33f-58e1a7833598",
   "metadata": {},
   "source": [
    "If you would like to redo your submission, you can still update your files in submissions folder and once ready, run again the code in the cell above. "
   ]
  },
  {
   "cell_type": "markdown",
   "id": "a15589c8-9956-4df5-a55a-48ccb77173b5",
   "metadata": {},
   "source": [
    "**Attention:** If you have previously opened the STAC browser, your old submission will be cached and not directly displayed. To circumvent this, open a private window from your browser."
   ]
  },
  {
   "cell_type": "markdown",
   "id": "32e011fc-53ec-44b6-9611-4de13f739973",
   "metadata": {
    "tags": []
   },
   "source": [
    "Happy coding!"
   ]
  }
 ],
 "metadata": {
  "kernelspec": {
   "display_name": "cubes-and-clouds-cubes_and_clouds_2",
   "language": "python",
   "name": "conda-env-cubes-and-clouds-cubes_and_clouds_2-py"
  },
  "language_info": {
   "codemirror_mode": {
    "name": "ipython",
    "version": 3
   },
   "file_extension": ".py",
   "mimetype": "text/x-python",
   "name": "python",
   "nbconvert_exporter": "python",
   "pygments_lexer": "ipython3",
   "version": "3.10.13"
  }
 },
 "nbformat": 4,
 "nbformat_minor": 5
}
